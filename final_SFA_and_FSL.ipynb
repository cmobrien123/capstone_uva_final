{
 "cells": [
  {
   "cell_type": "markdown",
   "id": "2a805a2f-bd7b-428b-88c9-2727aec99f01",
   "metadata": {
    "tags": []
   },
   "source": [
    "# New Analysis (Job Prep and Review)"
   ]
  },
  {
   "cell_type": "code",
   "execution_count": 56,
   "id": "5c34ea0e-e6a6-4762-9765-d560b8f66e61",
   "metadata": {},
   "outputs": [],
   "source": [
    "import pandas as pd\n",
    "import warnings\n",
    "import numpy as np\n",
    "from sklearn.pipeline import Pipeline\n",
    "from sklearn.model_selection import train_test_split\n",
    "from sklearn.utils import shuffle\n",
    "import keras\n",
    "from keras import layers\n",
    "from IPython.display import clear_output\n",
    "from sklearn.discriminant_analysis import LinearDiscriminantAnalysis\n",
    "from sklearn.metrics import confusion_matrix\n",
    "from numpy.random import seed\n",
    "import plotly.express as px\n",
    "from sklearn.neighbors import KNeighborsClassifier\n",
    "from sklearn.pipeline import make_pipeline\n",
    "from sklearn.preprocessing import StandardScaler\n",
    "from sklearn.svm import SVC\n",
    "from sklearn import svm\n",
    "from sklearn import datasets, linear_model\n",
    "from sklearn.model_selection import cross_validate\n",
    "from sklearn.metrics import make_scorer\n",
    "from sklearn.metrics import confusion_matrix\n",
    "from sklearn.svm import LinearSVC\n",
    "from sklearn.model_selection import StratifiedShuffleSplit\n",
    "from sklearn.model_selection import GridSearchCV\n",
    "from sklearn.metrics import f1_score\n",
    "import pulse_functions as pf\n",
    "from pyts.classification import BOSSVS\n",
    "from pyts.transformation import BOSS\n",
    "warnings.filterwarnings('ignore')\n",
    "import matplotlib.pyplot as plt\n",
    "import csv"
   ]
  },
  {
   "cell_type": "code",
   "execution_count": 11,
   "id": "0caf61cd-ee3e-427a-9c1e-c73aee55a7f5",
   "metadata": {},
   "outputs": [],
   "source": [
    "class PlotLosses(keras.callbacks.Callback):\n",
    "    def on_train_begin(self, logs={}):\n",
    "        self.i = 0\n",
    "        self.x = []\n",
    "        self.losses = []\n",
    "        self.val_losses = []\n",
    "        \n",
    "        self.fig = plt.figure()\n",
    "        \n",
    "        self.logs = []\n",
    "\n",
    "    def on_epoch_end(self, epoch, logs={}):\n",
    "        \n",
    "        self.logs.append(logs)\n",
    "        self.x.append(self.i)\n",
    "        self.losses.append(logs.get('loss'))\n",
    "        self.val_losses.append(logs.get('val_loss'))\n",
    "        self.i += 1\n",
    "        \n",
    "        clear_output(wait=True)\n",
    "        plt.plot(self.x, self.losses, label=\"loss\")\n",
    "        plt.plot(self.x, self.val_losses, label=\"val_loss\")\n",
    "        plt.legend()\n",
    "        plt.show();\n",
    "        \n",
    "plot_losses = PlotLosses()"
   ]
  },
  {
   "cell_type": "markdown",
   "id": "a1e0647c-853f-4942-88c6-4f5d6394e2fc",
   "metadata": {},
   "source": [
    "## Data Pull in"
   ]
  },
  {
   "cell_type": "code",
   "execution_count": 12,
   "id": "eb6ceb93-b4b4-4ca1-9247-fea6bff53f8b",
   "metadata": {},
   "outputs": [],
   "source": [
    "with open('../data-cleaned/train1.pickle', 'rb') as f:\n",
    "    train1 = pickle.load(f)\n",
    "    \n",
    "with open('../data-cleaned/train2.pickle', 'rb') as f:\n",
    "    train2 = pickle.load(f)\n",
    "    \n",
    "with open('../data-cleaned/test.pickle', 'rb') as f:\n",
    "    test = pickle.load(f)\n",
    "    \n",
    "# train = train1 | train2 \n",
    "\n",
    "train = {**train1, **train2}"
   ]
  },
  {
   "cell_type": "code",
   "execution_count": 13,
   "id": "223bd20b-7c87-4ecd-af73-695c972258b4",
   "metadata": {},
   "outputs": [],
   "source": [
    "columns = ['A+ IGBT I', 'C Phase DV', 'A+* IGBT I', 'Spare 2', 'B+ IGBT I',\n",
    "       'Spare 3', 'B+* IGBT I', 'Spare 4', 'C+ IGBT I', '+ CB I', 'C+* IGBT I',\n",
    "       '- CB I', '+ CB V', '- CB V', 'MOD I', 'DTL MPS 1 I', 'AC L1 I',\n",
    "       'A FLUX', 'AC L1 V', 'DTL1 Kly', 'AC L2 I', 'B FLUX', 'AC L2 V',\n",
    "       'DTL2 Kly', 'AC L3 I', 'C FLUX', 'AC L3 V', 'Gate In', 'MOD V', 'DV/DT',\n",
    "       '+ DC I', '- DC I']\n",
    "useful_cols = ['A+ IGBT I', 'A+* IGBT I', 'B+ IGBT I',\n",
    "       'B+* IGBT I', 'C+ IGBT I', '+ CB I', 'C+* IGBT I',\n",
    "       '- CB I', '+ CB V', '- CB V', 'MOD I', 'DTL MPS 1 I',\n",
    "       'A FLUX', 'DTL1 Kly', 'B FLUX',\n",
    "       'DTL2 Kly', 'C FLUX', 'MOD V', 'DV/DT']"
   ]
  },
  {
   "cell_type": "code",
   "execution_count": 74,
   "id": "50e7fe2d-1c56-462a-a57a-362c85767571",
   "metadata": {},
   "outputs": [
    {
     "data": {
      "text/plain": [
       "19"
      ]
     },
     "execution_count": 74,
     "metadata": {},
     "output_type": "execute_result"
    }
   ],
   "source": [
    "len(useful_cols)"
   ]
  },
  {
   "cell_type": "code",
   "execution_count": 75,
   "id": "63b897d6-770a-4c4d-922c-ad873e1a82f3",
   "metadata": {},
   "outputs": [
    {
     "ename": "NameError",
     "evalue": "name 'y_type' is not defined",
     "output_type": "error",
     "traceback": [
      "\u001b[0;31m---------------------------------------------------------------------------\u001b[0m",
      "\u001b[0;31mNameError\u001b[0m                                 Traceback (most recent call last)",
      "\u001b[0;32m/var/folders/cg/sy1vwrtx03x2nx3qy4721w9h0000gn/T/ipykernel_23880/1498483707.py\u001b[0m in \u001b[0;36m<module>\u001b[0;34m\u001b[0m\n\u001b[0;32m----> 1\u001b[0;31m \u001b[0my_type\u001b[0m\u001b[0;34m\u001b[0m\u001b[0;34m\u001b[0m\u001b[0m\n\u001b[0m",
      "\u001b[0;31mNameError\u001b[0m: name 'y_type' is not defined"
     ]
    }
   ],
   "source": [
    "y_type"
   ]
  },
  {
   "cell_type": "markdown",
   "id": "7d094aa6-9984-4f4c-97c2-ff9c0fb23cc9",
   "metadata": {},
   "source": [
    "## Functions"
   ]
  },
  {
   "cell_type": "code",
   "execution_count": 14,
   "id": "561c5b37-4bd1-4c05-926a-d1501830555c",
   "metadata": {},
   "outputs": [],
   "source": [
    "def Data_pulling_in_NEW():\n",
    "    '''\n",
    "    MUST BE RE-Run Each time you do a CV split since the CV code uses a .pop method\n",
    "    Take in data and combines the training / test so we can do cross validation (small sample size so doing CV instead of train/test)\n",
    "    '''\n",
    "    ## Pulling Raw Data in \n",
    "    X_raw, y_fault, y_type, indicies_raw = pf.get_all_pulses(train, useful_cols, reshape=None)\n",
    "    X_raw_test, y_fault_test, y_type_test, indicies_raw_test = pf.get_all_pulses(test, useful_cols, reshape=None)\n",
    "    \n",
    "    ## removing index 59 (breaks the BOSS transformation, not sure why)\n",
    "    X_raw_cleaned = np.delete(X_raw, 59, axis=0)\n",
    "    y_fault_cleaned = np.delete(y_fault, 59, axis=0)\n",
    "    y_type_cleaned = np.delete(y_type, 59, axis=0)\n",
    "    indicies_raw_list = indicies_raw[0]\n",
    "    indicies_raw_list.pop(59)\n",
    "    \n",
    "    ## Doing combinations \n",
    "    # X_raw\n",
    "    combined_X_data = np.concatenate((X_raw_cleaned, X_raw_test))\n",
    "    # y_faults\n",
    "    combined_y_faults = np.concatenate((y_fault_cleaned, y_fault_test))\n",
    "    # y_type\n",
    "    combined_y_type = np.concatenate((y_type_cleaned, y_type_test))\n",
    "    ## Getting indices\n",
    "    # train_indices = indicies_raw[0]\n",
    "    test_indices = indicies_raw_test[0]\n",
    "    indicies_raw_list.extend(test_indices)\n",
    "    combined_indices = indicies_raw_list\n",
    "    \n",
    "    return combined_X_data, combined_y_faults, combined_y_type, combined_indices\n",
    "\n",
    "\n",
    "def train_test_val_split(random_parm = 1):\n",
    "    '''\n",
    "    Given a random state, shuffles data accordingly\n",
    "    '''\n",
    "    combined_X_data_shuffled, combined_y_faults_shuffled, combined_y_type_shuffled, combined_indices_shuffled = shuffle(combined_X_data, combined_y_faults,\n",
    "                                                                                                                     combined_y_type, combined_indices, random_state=random_parm)\n",
    "    X_train = combined_X_data_shuffled[0:126]\n",
    "    y_train = combined_y_faults_shuffled[0:126]\n",
    "\n",
    "    X_val = combined_X_data_shuffled[126:167]\n",
    "    y_val = combined_y_faults_shuffled[126:167]\n",
    "\n",
    "    X_test = combined_X_data_shuffled[167:]\n",
    "    y_test = combined_y_faults_shuffled[167:]\n",
    "    \n",
    "    return X_train, y_train, X_val, y_val, X_test, y_test, combined_y_type_shuffled, combined_indices_shuffled\n",
    "\n",
    "\n",
    "def BOSS_transformation(X_train, X_val, X_test, word_size=3, n_bins=2):\n",
    "    '''\n",
    "    BOSS transformation that can be tuned on word and bin size, takes in the X data and transforms. \n",
    "    '''\n",
    "    \n",
    "    boss = BOSS(word_size=word_size, n_bins=n_bins, sparse=False, numerosity_reduction=False)\n",
    "    \n",
    "    ## transforming Train\n",
    "    X_train_swaped = np.swapaxes(X_train,0,1)\n",
    "\n",
    "    boss_list_train = []\n",
    "    for parameter in X_train_swaped:\n",
    "        local_boss = boss.fit_transform(parameter)\n",
    "        boss_list_train.append(local_boss)\n",
    "    boss_array_train = np.array(boss_list_train)\n",
    "\n",
    "    X_train_BOSS_transformed = np.swapaxes(boss_array_train,1,0)\n",
    "\n",
    "    ## transforming val\n",
    "    X_val_swaped = np.swapaxes(X_val,0,1)\n",
    "\n",
    "    boss_list_val = []\n",
    "    for parameter in X_val_swaped:\n",
    "        local_boss = boss.fit_transform(parameter)\n",
    "        boss_list_val.append(local_boss)\n",
    "    boss_array_val = np.array(boss_list_val)\n",
    "\n",
    "    X_val_BOSS_transformed = np.swapaxes(boss_array_val,1,0)\n",
    "\n",
    "    ## transforming Test\n",
    "    X_test_swaped = np.swapaxes(X_test,0,1)\n",
    "\n",
    "    boss_list_test = []\n",
    "    for parameter in X_test_swaped:\n",
    "        local_boss = boss.fit_transform(parameter)\n",
    "        boss_list_test.append(local_boss)\n",
    "    boss_array_test = np.array(boss_list_test)\n",
    "\n",
    "    X_test_BOSS_transformed = np.swapaxes(boss_array_test,1,0)\n",
    "    \n",
    "    return X_train_BOSS_transformed, X_val_BOSS_transformed, X_test_BOSS_transformed\n",
    "\n",
    "\n",
    "def flatten_and_normalize(X_train_BOSS_transformed,X_val_BOSS_transformed,X_test_BOSS_transformed):\n",
    "    '''\n",
    "    flatten and normalize all X data to use as input for autoencoder\n",
    "    '''\n",
    "    # getting normalizing factor\n",
    "    noamlizing_factor = np.sum(X_train_BOSS_transformed[0][0])\n",
    "\n",
    "    ## Flatten\n",
    "    flatten_list_train = []\n",
    "    for ob in X_train_BOSS_transformed:\n",
    "        ob_flatten = ob.flatten()\n",
    "        flatten_list_train.append(ob_flatten)\n",
    "    flatten_X_train = np.array(flatten_list_train)\n",
    "\n",
    "    flatten_list_val = []\n",
    "    for ob in X_val_BOSS_transformed:\n",
    "        ob_flatten = ob.flatten()\n",
    "        flatten_list_val.append(ob_flatten)\n",
    "    flatten_X_val = np.array(flatten_list_val)\n",
    "\n",
    "    flatten_list_test = []\n",
    "    for ob in X_test_BOSS_transformed:\n",
    "        ob_flatten = ob.flatten()\n",
    "        flatten_list_test.append(ob_flatten)\n",
    "    flatten_X_test = np.array(flatten_list_test)\n",
    "\n",
    "    # Normalize\n",
    "    flatten_X_train_normalized = flatten_list_train/noamlizing_factor\n",
    "    flatten_X_val_normalized = flatten_list_val/noamlizing_factor\n",
    "    flatten_X_test_normalized = flatten_list_test/noamlizing_factor\n",
    "    \n",
    "    return flatten_X_train_normalized, flatten_X_val_normalized, flatten_X_test_normalized\n",
    "\n",
    "\n",
    "def final_evaluation_LDA(flatten_X_train_normalized, flatten_X_test_normalized, y_train, y_test):\n",
    "    '''\n",
    "    Uses the true lables of train and test to fit and then evaluation LDA model\n",
    "    '''\n",
    "    latent_representation_train = encoder.predict(flatten_X_train_normalized) \n",
    "    latent_representation_test = encoder.predict(flatten_X_test_normalized)\n",
    "\n",
    "    ## LDA\n",
    "    clf = LinearDiscriminantAnalysis()\n",
    "    clf.fit(latent_representation_train, y_train)\n",
    "    predictions = clf.predict(latent_representation_test)\n",
    "    cm = confusion_matrix(y_test, predictions)\n",
    "\n",
    "    ## NOTE, sklearn does this a little different than most cm\n",
    "    TP = cm[1][1]\n",
    "    FP = cm[0][1]\n",
    "    FN = cm[1][0]\n",
    "    TN = cm[0][0]\n",
    "    total_count = np.sum(cm)\n",
    "\n",
    "    accuracy = (TP + TN)/total_count\n",
    "    Precision = TP/(TP+FP)\n",
    "    Recall = TP/(TP+FN)\n",
    "    F1 = (Precision*Recall)/(Precision+Recall)\n",
    "\n",
    "    return cm, accuracy, Precision, Recall, F1\n",
    "\n",
    "def get_results_df(cm):\n",
    "    '''\n",
    "    given the cm for a knn, get the final results\n",
    "    '''\n",
    "    TP = cm[1][1]\n",
    "    TN = cm[0][0]\n",
    "    FP = cm[0][1]\n",
    "    FN = cm[1][0]\n",
    "    Prec = TP / (TP+FP)\n",
    "    Recall = TP / (TP+FN)\n",
    "    F1 = 2 * ((Prec*Recall)/(Prec+Recall))\n",
    "    \n",
    "    # results_list  = [(TP+TN)/np.sum(cm), Prec, Recall, F1, seed, k, encoding_dim ]\n",
    "\n",
    "    results_df = pd.DataFrame({'Accuracy': (TP+TN)/np.sum(cm),\n",
    "                               'Precision': Prec,\n",
    "                               'Recall':Recall,\n",
    "                               'F-1 Score':F1}, index=[0])\n",
    "    return results_df\n",
    "\n",
    "\n",
    "def get_grading(predictions, true_lable):\n",
    "    '''\n",
    "    Given predictions, can get the true lables of data\n",
    "    '''\n",
    "    results_list = []\n",
    "    for ob in range(0,len(predictions)):\n",
    "        if (predictions[ob] == 1 and true_lable[ob] == 1):\n",
    "            results_list.append('TP')\n",
    "        elif (predictions[ob] == 1 and true_lable[ob] == 0):\n",
    "            results_list.append('FP')\n",
    "        elif (predictions[ob] == 0 and true_lable[ob] == 0):\n",
    "            results_list.append('TN')\n",
    "        else:\n",
    "            results_list.append('FN')\n",
    "    return results_list"
   ]
  },
  {
   "cell_type": "markdown",
   "id": "25339af5-c0af-4f99-95aa-ad54df91f9d3",
   "metadata": {},
   "source": [
    "## FINAL Analysis SINGLE PASS"
   ]
  },
  {
   "cell_type": "code",
   "execution_count": 83,
   "id": "9b46739e-2cee-4b63-933a-6e30d991a878",
   "metadata": {},
   "outputs": [
    {
     "data": {
      "text/plain": [
       "(14,)"
      ]
     },
     "execution_count": 83,
     "metadata": {},
     "output_type": "execute_result"
    }
   ],
   "source": [
    "np.unique(combined_y_type).shape"
   ]
  },
  {
   "cell_type": "code",
   "execution_count": 15,
   "id": "d03d64b1-9225-4cfa-8517-f8eee35b9ba9",
   "metadata": {},
   "outputs": [
    {
     "data": {
      "image/png": "[encoded data removed]",
      "text/plain": [
       "<Figure size 432x288 with 1 Axes>"
      ]
     },
     "metadata": {
      "needs_background": "light"
     },
     "output_type": "display_data"
    },
    {
     "data": {
      "text/plain": [
       "<keras.callbacks.callbacks.History at 0x7fa43022da10>"
      ]
     },
     "execution_count": 15,
     "metadata": {},
     "output_type": "execute_result"
    }
   ],
   "source": [
    "## DATA Pull in\n",
    "combined_X_data, combined_y_faults, combined_y_type, combined_indices = Data_pulling_in_NEW()\n",
    "\n",
    "######################################################\n",
    "## intial set up and transformation\n",
    "######################################################\n",
    "\n",
    "seed = 7\n",
    "k = 1\n",
    "encoding_dim = 3\n",
    "X_train, y_train, X_val, y_val, X_test, y_test, combined_y_type_shuffled, combined_indices_shuffled = train_test_val_split(seed)\n",
    "X_train_BOSS_transformed, X_val_BOSS_transformed, X_test_BOSS_transformed = BOSS_transformation(X_train, X_val, X_test, word_size=3, n_bins=2)\n",
    "\n",
    "######################################################\n",
    "## Setting up pass of the autoencoder\n",
    "######################################################\n",
    "\n",
    "# Defining the shapes\n",
    "flatten_shape = X_train_BOSS_transformed[0].shape[0] * X_train_BOSS_transformed[0].shape[1]\n",
    "encod_1 = int(flatten_shape/2)\n",
    "encod_2 = 48\n",
    "encod_3 = 32\n",
    "encoding_dim = encoding_dim \n",
    "decod_1 = encod_3\n",
    "decod_2 = encod_2\n",
    "decod_3 = encod_1\n",
    "\n",
    "\n",
    "# intital creation of model:\n",
    "# autoencoder = keras.Sequential()\n",
    "\n",
    "# This is our input image\n",
    "input_img = keras.Input(shape=(flatten_shape, ))\n",
    "\n",
    "# encoding layers\n",
    "encoding_layer_1 = layers.Dense(encod_1)(input_img)\n",
    "encoding_layer_1_a = layers.LeakyReLU(alpha=0.1)(encoding_layer_1)\n",
    "\n",
    "encoding_layer_2 = layers.Dense(encod_2)(encoding_layer_1_a)\n",
    "encoding_layer_2_a = layers.LeakyReLU(alpha=0.1)(encoding_layer_2)\n",
    "\n",
    "encoding_layer_3 = layers.Dense(encod_3)(encoding_layer_2_a)\n",
    "encoding_layer_3_a = layers.LeakyReLU(alpha=0.1)(encoding_layer_3)\n",
    "\n",
    "# \"encoded\" is the encoded representation of the input. Also can think of as the latent space\n",
    "encoded = layers.Dense(encoding_dim, activation='relu')(encoding_layer_3_a)\n",
    "encoded_a = layers.LeakyReLU(alpha=0.3)(encoded)\n",
    "# encoded = layers.Dense(encoding_dim, activation='relu')(encoding_layer_3)\n",
    "\n",
    "# decoding layers\n",
    "decoding_layer_1 = layers.Dense(encod_3, activation='relu')(encoded_a)\n",
    "decoding_layer_1_a = layers.LeakyReLU(alpha=0.1)(decoding_layer_1)\n",
    "\n",
    "\n",
    "decoding_layer_2 = layers.Dense(encod_2, activation='relu')(decoding_layer_1_a)\n",
    "decoding_layer_2_a = layers.LeakyReLU(alpha=0.1)(decoding_layer_2)\n",
    "\n",
    "decoding_layer_3 = layers.Dense(encod_1, activation='relu' )(decoding_layer_2_a)\n",
    "decoding_layer_3_a = layers.LeakyReLU(alpha=0.1)(decoding_layer_3)\n",
    "\n",
    "# This is our output image\n",
    "# output_img = layers.Dense(flatten_shape)(edecoding_layer_3_a)\n",
    "\n",
    "# \"decoded\" is the lossy reconstruction of the input\n",
    "# decoded = layers.LeakyReLU(alpha=0.1)(decoding_layer_3)\n",
    "decoded = layers.Dense(flatten_shape, activation='relu')(decoding_layer_3_a)\n",
    "\n",
    "\n",
    "# This model maps an input to its reconstruction (Full model)\n",
    "autoencoder = keras.Model(input_img, decoded)\n",
    "\n",
    "# This model maps an input to its encoded representation (input to latent space)\n",
    "encoder = keras.Model(input_img, encoded_a)\n",
    "\n",
    "# optimizer and loss\n",
    "autoencoder.compile(optimizer='adam', loss='binary_crossentropy')  \n",
    "\n",
    "\n",
    "print(autoencoder.summary())\n",
    "\n",
    "######################################################\n",
    "## flatten / normalize and then fit encoder \n",
    "######################################################\n",
    "\n",
    "flatten_X_train_normalized, flatten_X_val_normalized, flatten_X_test_normalized = flatten_and_normalize(X_train_BOSS_transformed,X_val_BOSS_transformed,X_test_BOSS_transformed)\n",
    "\n",
    "autoencoder.fit(flatten_X_train_normalized, flatten_X_train_normalized,\n",
    "                                epochs=80,\n",
    "                                batch_size=4,\n",
    "                                shuffle=True,\n",
    "                                verbose=1,\n",
    "                                callbacks=[plot_losses],\n",
    "                                validation_data=(flatten_X_val_normalized, flatten_X_val_normalized))\n"
   ]
  },
  {
   "cell_type": "code",
   "execution_count": 16,
   "id": "7d2924d1-2d95-43d2-a9d3-8270274ce632",
   "metadata": {},
   "outputs": [],
   "source": [
    "## geting latent representations\n",
    "\n",
    "latent_representation_train = encoder.predict(flatten_X_train_normalized) \n",
    "latent_representation_val = encoder.predict(flatten_X_val_normalized) \n",
    "latent_representation_test = encoder.predict(flatten_X_test_normalized)\n",
    "\n",
    "latent_test_val_representation = np.concatenate((latent_representation_val, latent_representation_test), axis=0)\n",
    "val_test_y = np.concatenate((y_val, y_test), axis=0)"
   ]
  },
  {
   "cell_type": "code",
   "execution_count": 17,
   "id": "cfe925c0-924d-4f95-b31f-6bc8d807a824",
   "metadata": {},
   "outputs": [
    {
     "name": "stdout",
     "output_type": "stream",
     "text": [
      "The best parameters are {'C': 10.0, 'gamma': 1000.0} with a score of 0.82\n"
     ]
    },
    {
     "data": {
      "text/plain": [
       "SVC(C=10.0, gamma=1000.0)"
      ]
     },
     "execution_count": 17,
     "metadata": {},
     "output_type": "execute_result"
    }
   ],
   "source": [
    "## SVM\n",
    "\n",
    "### parameter tuning from training data:\n",
    "\n",
    "C_range = np.logspace(-2, 10, 13)\n",
    "gamma_range = np.logspace(-9, 3, 13)\n",
    "param_grid = dict(gamma=gamma_range, C=C_range)\n",
    "\n",
    "cv = StratifiedShuffleSplit(n_splits=5, test_size=0.2, random_state=42)\n",
    "\n",
    "\n",
    "F1_scorer = make_scorer(f1_score)\n",
    "\n",
    "grid = GridSearchCV(SVC(kernel='rbf'), param_grid=param_grid, cv=cv, scoring=F1_scorer)\n",
    "grid.fit(latent_representation_train, y_train)\n",
    "\n",
    "print(\n",
    "    \"The best parameters are %s with a score of %0.2f\"\n",
    "    % (grid.best_params_, grid.best_score_)\n",
    ")\n",
    "\n",
    "## fitting on full training\n",
    "rbf_svc = svm.SVC(kernel='rbf', C=grid.best_params_['C'], gamma=grid.best_params_['gamma'])\n",
    "rbf_svc.fit(latent_representation_train,y_train)"
   ]
  },
  {
   "cell_type": "code",
   "execution_count": 18,
   "id": "94e1760e-3a64-475f-9e99-29d95299be4f",
   "metadata": {},
   "outputs": [
    {
     "data": {
      "text/html": [
       "<div>\n",
       "<style scoped>\n",
       "    .dataframe tbody tr th:only-of-type {\n",
       "        vertical-align: middle;\n",
       "    }\n",
       "\n",
       "    .dataframe tbody tr th {\n",
       "        vertical-align: top;\n",
       "    }\n",
       "\n",
       "    .dataframe thead th {\n",
       "        text-align: right;\n",
       "    }\n",
       "</style>\n",
       "<table border=\"1\" class=\"dataframe\">\n",
       "  <thead>\n",
       "    <tr style=\"text-align: right;\">\n",
       "      <th></th>\n",
       "      <th>Accuracy</th>\n",
       "      <th>Precision</th>\n",
       "      <th>Recall</th>\n",
       "      <th>F-1 Score</th>\n",
       "    </tr>\n",
       "  </thead>\n",
       "  <tbody>\n",
       "    <tr>\n",
       "      <th>0</th>\n",
       "      <td>0.928571</td>\n",
       "      <td>1.0</td>\n",
       "      <td>0.689655</td>\n",
       "      <td>0.816327</td>\n",
       "    </tr>\n",
       "  </tbody>\n",
       "</table>\n",
       "</div>"
      ],
      "text/plain": [
       "   Accuracy  Precision    Recall  F-1 Score\n",
       "0  0.928571        1.0  0.689655   0.816327"
      ]
     },
     "execution_count": 18,
     "metadata": {},
     "output_type": "execute_result"
    }
   ],
   "source": [
    "## seeing how it does with training\n",
    "training_predictions = rbf_svc.predict(latent_representation_train)\n",
    "cm_train = confusion_matrix(y_train, training_predictions)\n",
    "get_results_df(cm_train)"
   ]
  },
  {
   "cell_type": "code",
   "execution_count": 19,
   "id": "0db15445-a0b2-487e-907b-c145dee126e2",
   "metadata": {},
   "outputs": [
    {
     "data": {
      "text/html": [
       "<div>\n",
       "<style scoped>\n",
       "    .dataframe tbody tr th:only-of-type {\n",
       "        vertical-align: middle;\n",
       "    }\n",
       "\n",
       "    .dataframe tbody tr th {\n",
       "        vertical-align: top;\n",
       "    }\n",
       "\n",
       "    .dataframe thead th {\n",
       "        text-align: right;\n",
       "    }\n",
       "</style>\n",
       "<table border=\"1\" class=\"dataframe\">\n",
       "  <thead>\n",
       "    <tr style=\"text-align: right;\">\n",
       "      <th></th>\n",
       "      <th>Accuracy</th>\n",
       "      <th>Precision</th>\n",
       "      <th>Recall</th>\n",
       "      <th>F-1 Score</th>\n",
       "    </tr>\n",
       "  </thead>\n",
       "  <tbody>\n",
       "    <tr>\n",
       "      <th>0</th>\n",
       "      <td>0.876543</td>\n",
       "      <td>0.866667</td>\n",
       "      <td>0.619048</td>\n",
       "      <td>0.722222</td>\n",
       "    </tr>\n",
       "  </tbody>\n",
       "</table>\n",
       "</div>"
      ],
      "text/plain": [
       "   Accuracy  Precision    Recall  F-1 Score\n",
       "0  0.876543   0.866667  0.619048   0.722222"
      ]
     },
     "execution_count": 19,
     "metadata": {},
     "output_type": "execute_result"
    }
   ],
   "source": [
    "## seeing how it does with test\n",
    "test_validation_predictions = rbf_svc.predict(latent_test_val_representation)\n",
    "cm_test_val = confusion_matrix(val_test_y, test_validation_predictions)\n",
    "get_results_df(cm_test_val)"
   ]
  },
  {
   "cell_type": "markdown",
   "id": "f0336e75-faff-4daa-9846-be1edc640b8a",
   "metadata": {},
   "source": [
    "## Vis"
   ]
  },
  {
   "cell_type": "code",
   "execution_count": 72,
   "id": "296ce388-7a98-49a9-8730-2a2b45b2f6ec",
   "metadata": {},
   "outputs": [
    {
     "data": {
      "application/vnd.plotly.v1+json": {
       "config": {
        "plotlyServerURL": "https://plot.ly"
       },
       "data": [
        {
         "customdata": [
          [
           "DV/DT High Fault"
          ],
          [
           "A- Driver Fault"
          ],
          [
           "+ DC I High Fault"
          ],
          [
           "SCR Contactor Fault"
          ],
          [
           "SNS PPS Missing"
          ],
          [
           "Xmtr 3 Fiber Fault"
          ],
          [
           "TPS Fault"
          ],
          [
           "SNS PPS Missing"
          ],
          [
           "+ DC I High Fault"
          ],
          [
           "DV/DT High Fault"
          ],
          [
           "DV/DT High Fault"
          ],
          [
           "TPS Fault"
          ],
          [
           "TPS Fault"
          ],
          [
           "SNS PPS Missing"
          ],
          [
           "SNS PPS Missing"
          ],
          [
           "SNS PPS Missing"
          ],
          [
           "TPS Fault"
          ],
          [
           "SCR AC Input Fault"
          ],
          [
           "SNS PPS Missing"
          ],
          [
           "SCR Firing Circ Fault"
          ]
         ],
         "hovertemplate": "Classification Results=TP<br>Node 0=%{x}<br>Node 1=%{y}<br>Node 2=%{z}<br>Fault Type=%{customdata[0]}<extra></extra>",
         "legendgroup": "TP",
         "marker": {
          "color": "green",
          "symbol": "circle"
         },
         "mode": "markers",
         "name": "TP",
         "scene": "scene",
         "showlegend": true,
         "type": "scatter3d",
         "x": [
          0.3844905197620392,
          0.758394181728363,
          0.9299419522285461,
          0.36222773790359497,
          0.3537222146987915,
          1.0690261125564575,
          0.22268496453762054,
          0.3560484051704407,
          0.9291220307350159,
          0.5345255732536316,
          0.6012079119682312,
          0.9026128053665161,
          0,
          0,
          0.3582392930984497,
          0.3563116192817688,
          0.16031597554683685,
          0.8913193941116333,
          0.9001338481903076,
          0.37306270003318787
         ],
         "y": [
          1.208412528038025,
          0,
          0,
          0,
          0,
          0,
          0.8581427335739136,
          0,
          0,
          1.2508537769317627,
          1.0952965021133423,
          0,
          0.7155314683914185,
          0,
          0,
          0,
          1.0407631397247314,
          0,
          0,
          0
         ],
         "z": [
          0.675214946269989,
          0.9580523371696472,
          0.6761095523834229,
          1.103886604309082,
          1.105427622795105,
          0.5333877205848694,
          0.9342241287231445,
          1.1114554405212402,
          0.681725025177002,
          0.4498380124568939,
          0.5786033868789673,
          0.7080443501472473,
          1.030030369758606,
          1.1033573150634766,
          1.116148829460144,
          1.1125922203063965,
          0.8588765263557434,
          0.7130481004714966,
          0.7051675915718079,
          1.145559549331665
         ]
        },
        {
         "customdata": [
          [
           "Run"
          ],
          [
           "Run"
          ],
          [
           "Run"
          ],
          [
           "Run"
          ],
          [
           "Run"
          ],
          [
           "Run"
          ],
          [
           "Run"
          ],
          [
           "Run"
          ],
          [
           "Run"
          ],
          [
           "Run"
          ],
          [
           "Run"
          ],
          [
           "Run"
          ],
          [
           "Run"
          ],
          [
           "Run"
          ],
          [
           "Run"
          ],
          [
           "Run"
          ],
          [
           "Run"
          ],
          [
           "Run"
          ],
          [
           "Run"
          ],
          [
           "Run"
          ],
          [
           "Run"
          ],
          [
           "Run"
          ],
          [
           "Run"
          ],
          [
           "Run"
          ],
          [
           "Run"
          ],
          [
           "Run"
          ],
          [
           "Run"
          ],
          [
           "Run"
          ],
          [
           "Run"
          ],
          [
           "Run"
          ],
          [
           "Run"
          ],
          [
           "Run"
          ],
          [
           "Run"
          ],
          [
           "Run"
          ],
          [
           "Run"
          ],
          [
           "Run"
          ],
          [
           "Run"
          ],
          [
           "Run"
          ],
          [
           "Run"
          ],
          [
           "Run"
          ],
          [
           "Run"
          ],
          [
           "Run"
          ],
          [
           "Run"
          ],
          [
           "Run"
          ],
          [
           "Run"
          ],
          [
           "Run"
          ],
          [
           "Run"
          ],
          [
           "Run"
          ],
          [
           "Run"
          ],
          [
           "Run"
          ],
          [
           "Run"
          ],
          [
           "Run"
          ],
          [
           "Run"
          ],
          [
           "Run"
          ],
          [
           "Run"
          ],
          [
           "Run"
          ],
          [
           "Run"
          ],
          [
           "Run"
          ],
          [
           "Run"
          ],
          [
           "Run"
          ],
          [
           "Run"
          ],
          [
           "Run"
          ],
          [
           "Run"
          ],
          [
           "Run"
          ],
          [
           "Run"
          ],
          [
           "Run"
          ],
          [
           "Run"
          ],
          [
           "Run"
          ],
          [
           "Run"
          ],
          [
           "Run"
          ],
          [
           "Run"
          ],
          [
           "Run"
          ],
          [
           "Run"
          ],
          [
           "Run"
          ],
          [
           "Run"
          ],
          [
           "Run"
          ],
          [
           "Run"
          ],
          [
           "Run"
          ],
          [
           "Run"
          ],
          [
           "Run"
          ],
          [
           "Run"
          ],
          [
           "Run"
          ],
          [
           "Run"
          ],
          [
           "Run"
          ],
          [
           "Run"
          ],
          [
           "Run"
          ],
          [
           "Run"
          ],
          [
           "Run"
          ],
          [
           "Run"
          ],
          [
           "Run"
          ],
          [
           "Run"
          ],
          [
           "Run"
          ],
          [
           "Run"
          ],
          [
           "Run"
          ],
          [
           "Run"
          ],
          [
           "Run"
          ],
          [
           "Run"
          ]
         ],
         "hovertemplate": "Classification Results=TN<br>Node 0=%{x}<br>Node 1=%{y}<br>Node 2=%{z}<br>Fault Type=%{customdata[0]}<extra></extra>",
         "legendgroup": "TN",
         "marker": {
          "color": "blue",
          "symbol": "circle"
         },
         "mode": "markers",
         "name": "TN",
         "scene": "scene",
         "showlegend": true,
         "type": "scatter3d",
         "x": [
          0.9748899936676025,
          0.9760044813156128,
          0.9847084879875183,
          0.9822453260421753,
          1.154524564743042,
          0.974656879901886,
          0.9606269001960754,
          0.03671414032578468,
          1.1993951797485352,
          0.977634072303772,
          0.9628653526306152,
          0.9647465348243713,
          1.2268707752227783,
          0.9745825529098511,
          1.1599901914596558,
          0.9719552993774414,
          0.6661384105682373,
          0.9834321737289429,
          0.955473780632019,
          0.9599263072013855,
          0.9569024443626404,
          0.9859158992767334,
          1.2341948747634888,
          0.9704806208610535,
          0.9876499176025391,
          0.9802305698394775,
          0.9566994905471802,
          0.9890140295028687,
          0.9676777720451355,
          0.983242392539978,
          0.9465975761413574,
          0.9796953201293945,
          1.2214432954788208,
          0.9787856936454773,
          0.9798504710197449,
          0.9842506647109985,
          0.9640243053436279,
          0.983612596988678,
          0.9865579009056091,
          0.9689309000968933,
          0,
          0.9812881946563721,
          0.9664115905761719,
          0.9832929968833923,
          0.9768221378326416,
          0.9638479351997375,
          1.181172251701355,
          0.9542360901832581,
          1.1839832067489624,
          0.9867953062057495,
          0.9798917174339294,
          0.9546337723731995,
          1.0314379930496216,
          1.1695106029510498,
          1.1611427068710327,
          0.9726802110671997,
          0.9781106114387512,
          1.1770128011703491,
          1.2242861986160278,
          0.9690232276916504,
          0.9804096221923828,
          0.9505200386047363,
          0.9499662518501282,
          0.990027129650116,
          0.9684092998504639,
          0.9790890216827393,
          0.9533272981643677,
          0.9838852286338806,
          0.951512336730957,
          1.1726481914520264,
          0.028839707374572754,
          0.9414421319961548,
          0.992648184299469,
          0.9719012975692749,
          0.9904024004936218,
          1.1955410242080688,
          0.9908570051193237,
          0.9884589314460754,
          0.9825284481048584,
          1.0344184637069702,
          0.9684541821479797,
          0.95213782787323,
          0.9845524430274963,
          0.968434751033783,
          1.2222508192062378,
          0.9537989497184753,
          0.9779286980628967,
          0.9486827850341797,
          0.9827058911323547,
          0.9750984907150269,
          0.9755217432975769,
          0.6638093590736389,
          0.949268102645874,
          0.9815430641174316,
          0.9636921882629395,
          0.97093266248703,
          1.2094361782073975
         ],
         "y": [
          0,
          0,
          0,
          0,
          0,
          0,
          0,
          0,
          0,
          0,
          0,
          0,
          0,
          0,
          0,
          0,
          0,
          0,
          0,
          0,
          0,
          0,
          0,
          0,
          0,
          0,
          0,
          0,
          0,
          0,
          0,
          0,
          0,
          0,
          0,
          0,
          0,
          0,
          0,
          0,
          0,
          0,
          0,
          0,
          0,
          0,
          0,
          0,
          0,
          0,
          0,
          0,
          0,
          0,
          0,
          0,
          0,
          0,
          0,
          0,
          0,
          0,
          0,
          0,
          0,
          0,
          0,
          0,
          0,
          0,
          0,
          0,
          0,
          0,
          0,
          0,
          0,
          0,
          0,
          0,
          0,
          0,
          0,
          0,
          0,
          0,
          0,
          0,
          0,
          0,
          0,
          0,
          0,
          0,
          0,
          0,
          0
         ],
         "z": [
          0.6336520910263062,
          0.6398295760154724,
          0.6344287991523743,
          0.6321361064910889,
          0.3804185092449188,
          0.6420360803604126,
          0.6475565433502197,
          1.1547471284866333,
          0.30338600277900696,
          0.6395794153213501,
          0.6465060710906982,
          0.6575343012809753,
          0.28361862897872925,
          0.634734570980072,
          0.37196049094200134,
          0.6366410851478577,
          1.057106614112854,
          0.6372737884521484,
          0.6579458713531494,
          0.6554515361785889,
          0.6470889449119568,
          0.6327252388000488,
          0.27315476536750793,
          0.6406229138374329,
          0.6338899731636047,
          0.6368574500083923,
          0.6575530171394348,
          0.6238420605659485,
          0.641670823097229,
          0.6366444230079651,
          0.6703168153762817,
          0.6337276101112366,
          0.27400583028793335,
          0.6333094239234924,
          0.6380628943443298,
          0.631324052810669,
          0.6576827168464661,
          0.630461573600769,
          0.634535014629364,
          0.6370859742164612,
          1.1348742246627808,
          0.6384695172309875,
          0.6451852917671204,
          0.6348510384559631,
          0.6360877752304077,
          0.6444573402404785,
          0.3478032648563385,
          0.6573981642723083,
          0.32303839921951294,
          0.6290062069892883,
          0.6381455063819885,
          0.6493343710899353,
          0.5927162170410156,
          0.362774521112442,
          0.36214274168014526,
          0.6383517980575562,
          0.6394103765487671,
          0.3268643319606781,
          0.2919282615184784,
          0.6521419882774353,
          0.6228103041648865,
          0.6550951600074768,
          0.6668726205825806,
          0.6300375461578369,
          0.6422605514526367,
          0.6418087482452393,
          0.6571342349052429,
          0.6386325359344482,
          0.6550314426422119,
          0.34705406427383423,
          1.1569494009017944,
          0.6716731190681458,
          0.6285448670387268,
          0.6420938372612,
          0.6307753920555115,
          0.3050552010536194,
          0.631680428981781,
          0.6254038214683533,
          0.637311577796936,
          0.5940832495689392,
          0.645706057548523,
          0.6569008827209473,
          0.6339982748031616,
          0.6469125747680664,
          0.2751540541648865,
          0.6506101489067078,
          0.6330910921096802,
          0.6569716930389404,
          0.6313806772232056,
          0.6356338858604431,
          0.6434202194213867,
          1.0567524433135986,
          0.6595104932785034,
          0.6323391199111938,
          0.6460577845573425,
          0.6468886733055115,
          0.29880082607269287
         ]
        },
        {
         "customdata": [
          [
           "Xmtr 3 Fiber Fault"
          ],
          [
           "Xmtr 1 Fiber     Fault"
          ],
          [
           "Xmtr 1 Fiber     Fault"
          ],
          [
           "A- Driver Fault"
          ],
          [
           "Xmtr 3 Fiber Fault"
          ],
          [
           "Xmtr 3 Fiber Fault"
          ],
          [
           "Xmtr 2 Fiber Fault"
          ],
          [
           "SNS PPS Missing"
          ],
          [
           "A- Driver Fault"
          ]
         ],
         "hovertemplate": "Classification Results=FN<br>Node 0=%{x}<br>Node 1=%{y}<br>Node 2=%{z}<br>Fault Type=%{customdata[0]}<extra></extra>",
         "legendgroup": "FN",
         "marker": {
          "color": "red",
          "symbol": "circle"
         },
         "mode": "markers",
         "name": "FN",
         "scene": "scene",
         "showlegend": true,
         "type": "scatter3d",
         "x": [
          0.9756275415420532,
          0.9527178406715393,
          0.9527178406715393,
          0.9898671507835388,
          0.96197110414505,
          0.9761762022972107,
          0.9877656102180481,
          1.2101669311523438,
          0.9734612107276917
         ],
         "y": [
          0,
          0,
          0,
          0,
          0,
          0,
          0,
          0,
          0
         ],
         "z": [
          0.6379615068435669,
          0.6565835475921631,
          0.6565835475921631,
          0.6324307918548584,
          0.6444253325462341,
          0.636404275894165,
          0.6301487684249878,
          0.29902324080467224,
          0.639522910118103
         ]
        }
       ],
       "layout": {
        "autosize": true,
        "legend": {
         "title": {
          "text": "Classification Results"
         },
         "tracegroupgap": 0
        },
        "margin": {
         "t": 60
        },
        "scene": {
         "aspectmode": "auto",
         "aspectratio": {
          "x": 1.112764316757162,
          "y": 1.1277841748591946,
          "z": 0.7968394245296284
         },
         "domain": {
          "x": [
           0,
           1
          ],
          "y": [
           0,
           1
          ]
         },
         "xaxis": {
          "title": {
           "text": "Node 0"
          },
          "type": "linear"
         },
         "yaxis": {
          "title": {
           "text": "Node 1"
          },
          "type": "linear"
         },
         "zaxis": {
          "title": {
           "text": "Node 2"
          },
          "type": "linear"
         }
        },
        "template": {
         "data": {
          "bar": [
           {
            "error_x": {
             "color": "#2a3f5f"
            },
            "error_y": {
             "color": "#2a3f5f"
            },
            "marker": {
             "line": {
              "color": "#E5ECF6",
              "width": 0.5
             },
             "pattern": {
              "fillmode": "overlay",
              "size": 10,
              "solidity": 0.2
             }
            },
            "type": "bar"
           }
          ],
          "barpolar": [
           {
            "marker": {
             "line": {
              "color": "#E5ECF6",
              "width": 0.5
             },
             "pattern": {
              "fillmode": "overlay",
              "size": 10,
              "solidity": 0.2
             }
            },
            "type": "barpolar"
           }
          ],
          "carpet": [
           {
            "aaxis": {
             "endlinecolor": "#2a3f5f",
             "gridcolor": "white",
             "linecolor": "white",
             "minorgridcolor": "white",
             "startlinecolor": "#2a3f5f"
            },
            "baxis": {
             "endlinecolor": "#2a3f5f",
             "gridcolor": "white",
             "linecolor": "white",
             "minorgridcolor": "white",
             "startlinecolor": "#2a3f5f"
            },
            "type": "carpet"
           }
          ],
          "choropleth": [
           {
            "colorbar": {
             "outlinewidth": 0,
             "ticks": ""
            },
            "type": "choropleth"
           }
          ],
          "contour": [
           {
            "colorbar": {
             "outlinewidth": 0,
             "ticks": ""
            },
            "colorscale": [
             [
              0,
              "#0d0887"
             ],
             [
              0.1111111111111111,
              "#46039f"
             ],
             [
              0.2222222222222222,
              "#7201a8"
             ],
             [
              0.3333333333333333,
              "#9c179e"
             ],
             [
              0.4444444444444444,
              "#bd3786"
             ],
             [
              0.5555555555555556,
              "#d8576b"
             ],
             [
              0.6666666666666666,
              "#ed7953"
             ],
             [
              0.7777777777777778,
              "#fb9f3a"
             ],
             [
              0.8888888888888888,
              "#fdca26"
             ],
             [
              1,
              "#f0f921"
             ]
            ],
            "type": "contour"
           }
          ],
          "contourcarpet": [
           {
            "colorbar": {
             "outlinewidth": 0,
             "ticks": ""
            },
            "type": "contourcarpet"
           }
          ],
          "heatmap": [
           {
            "colorbar": {
             "outlinewidth": 0,
             "ticks": ""
            },
            "colorscale": [
             [
              0,
              "#0d0887"
             ],
             [
              0.1111111111111111,
              "#46039f"
             ],
             [
              0.2222222222222222,
              "#7201a8"
             ],
             [
              0.3333333333333333,
              "#9c179e"
             ],
             [
              0.4444444444444444,
              "#bd3786"
             ],
             [
              0.5555555555555556,
              "#d8576b"
             ],
             [
              0.6666666666666666,
              "#ed7953"
             ],
             [
              0.7777777777777778,
              "#fb9f3a"
             ],
             [
              0.8888888888888888,
              "#fdca26"
             ],
             [
              1,
              "#f0f921"
             ]
            ],
            "type": "heatmap"
           }
          ],
          "heatmapgl": [
           {
            "colorbar": {
             "outlinewidth": 0,
             "ticks": ""
            },
            "colorscale": [
             [
              0,
              "#0d0887"
             ],
             [
              0.1111111111111111,
              "#46039f"
             ],
             [
              0.2222222222222222,
              "#7201a8"
             ],
             [
              0.3333333333333333,
              "#9c179e"
             ],
             [
              0.4444444444444444,
              "#bd3786"
             ],
             [
              0.5555555555555556,
              "#d8576b"
             ],
             [
              0.6666666666666666,
              "#ed7953"
             ],
             [
              0.7777777777777778,
              "#fb9f3a"
             ],
             [
              0.8888888888888888,
              "#fdca26"
             ],
             [
              1,
              "#f0f921"
             ]
            ],
            "type": "heatmapgl"
           }
          ],
          "histogram": [
           {
            "marker": {
             "pattern": {
              "fillmode": "overlay",
              "size": 10,
              "solidity": 0.2
             }
            },
            "type": "histogram"
           }
          ],
          "histogram2d": [
           {
            "colorbar": {
             "outlinewidth": 0,
             "ticks": ""
            },
            "colorscale": [
             [
              0,
              "#0d0887"
             ],
             [
              0.1111111111111111,
              "#46039f"
             ],
             [
              0.2222222222222222,
              "#7201a8"
             ],
             [
              0.3333333333333333,
              "#9c179e"
             ],
             [
              0.4444444444444444,
              "#bd3786"
             ],
             [
              0.5555555555555556,
              "#d8576b"
             ],
             [
              0.6666666666666666,
              "#ed7953"
             ],
             [
              0.7777777777777778,
              "#fb9f3a"
             ],
             [
              0.8888888888888888,
              "#fdca26"
             ],
             [
              1,
              "#f0f921"
             ]
            ],
            "type": "histogram2d"
           }
          ],
          "histogram2dcontour": [
           {
            "colorbar": {
             "outlinewidth": 0,
             "ticks": ""
            },
            "colorscale": [
             [
              0,
              "#0d0887"
             ],
             [
              0.1111111111111111,
              "#46039f"
             ],
             [
              0.2222222222222222,
              "#7201a8"
             ],
             [
              0.3333333333333333,
              "#9c179e"
             ],
             [
              0.4444444444444444,
              "#bd3786"
             ],
             [
              0.5555555555555556,
              "#d8576b"
             ],
             [
              0.6666666666666666,
              "#ed7953"
             ],
             [
              0.7777777777777778,
              "#fb9f3a"
             ],
             [
              0.8888888888888888,
              "#fdca26"
             ],
             [
              1,
              "#f0f921"
             ]
            ],
            "type": "histogram2dcontour"
           }
          ],
          "mesh3d": [
           {
            "colorbar": {
             "outlinewidth": 0,
             "ticks": ""
            },
            "type": "mesh3d"
           }
          ],
          "parcoords": [
           {
            "line": {
             "colorbar": {
              "outlinewidth": 0,
              "ticks": ""
             }
            },
            "type": "parcoords"
           }
          ],
          "pie": [
           {
            "automargin": true,
            "type": "pie"
           }
          ],
          "scatter": [
           {
            "marker": {
             "colorbar": {
              "outlinewidth": 0,
              "ticks": ""
             }
            },
            "type": "scatter"
           }
          ],
          "scatter3d": [
           {
            "line": {
             "colorbar": {
              "outlinewidth": 0,
              "ticks": ""
             }
            },
            "marker": {
             "colorbar": {
              "outlinewidth": 0,
              "ticks": ""
             }
            },
            "type": "scatter3d"
           }
          ],
          "scattercarpet": [
           {
            "marker": {
             "colorbar": {
              "outlinewidth": 0,
              "ticks": ""
             }
            },
            "type": "scattercarpet"
           }
          ],
          "scattergeo": [
           {
            "marker": {
             "colorbar": {
              "outlinewidth": 0,
              "ticks": ""
             }
            },
            "type": "scattergeo"
           }
          ],
          "scattergl": [
           {
            "marker": {
             "colorbar": {
              "outlinewidth": 0,
              "ticks": ""
             }
            },
            "type": "scattergl"
           }
          ],
          "scattermapbox": [
           {
            "marker": {
             "colorbar": {
              "outlinewidth": 0,
              "ticks": ""
             }
            },
            "type": "scattermapbox"
           }
          ],
          "scatterpolar": [
           {
            "marker": {
             "colorbar": {
              "outlinewidth": 0,
              "ticks": ""
             }
            },
            "type": "scatterpolar"
           }
          ],
          "scatterpolargl": [
           {
            "marker": {
             "colorbar": {
              "outlinewidth": 0,
              "ticks": ""
             }
            },
            "type": "scatterpolargl"
           }
          ],
          "scatterternary": [
           {
            "marker": {
             "colorbar": {
              "outlinewidth": 0,
              "ticks": ""
             }
            },
            "type": "scatterternary"
           }
          ],
          "surface": [
           {
            "colorbar": {
             "outlinewidth": 0,
             "ticks": ""
            },
            "colorscale": [
             [
              0,
              "#0d0887"
             ],
             [
              0.1111111111111111,
              "#46039f"
             ],
             [
              0.2222222222222222,
              "#7201a8"
             ],
             [
              0.3333333333333333,
              "#9c179e"
             ],
             [
              0.4444444444444444,
              "#bd3786"
             ],
             [
              0.5555555555555556,
              "#d8576b"
             ],
             [
              0.6666666666666666,
              "#ed7953"
             ],
             [
              0.7777777777777778,
              "#fb9f3a"
             ],
             [
              0.8888888888888888,
              "#fdca26"
             ],
             [
              1,
              "#f0f921"
             ]
            ],
            "type": "surface"
           }
          ],
          "table": [
           {
            "cells": {
             "fill": {
              "color": "#EBF0F8"
             },
             "line": {
              "color": "white"
             }
            },
            "header": {
             "fill": {
              "color": "#C8D4E3"
             },
             "line": {
              "color": "white"
             }
            },
            "type": "table"
           }
          ]
         },
         "layout": {
          "annotationdefaults": {
           "arrowcolor": "#2a3f5f",
           "arrowhead": 0,
           "arrowwidth": 1
          },
          "autotypenumbers": "strict",
          "coloraxis": {
           "colorbar": {
            "outlinewidth": 0,
            "ticks": ""
           }
          },
          "colorscale": {
           "diverging": [
            [
             0,
             "#8e0152"
            ],
            [
             0.1,
             "#c51b7d"
            ],
            [
             0.2,
             "#de77ae"
            ],
            [
             0.3,
             "#f1b6da"
            ],
            [
             0.4,
             "#fde0ef"
            ],
            [
             0.5,
             "#f7f7f7"
            ],
            [
             0.6,
             "#e6f5d0"
            ],
            [
             0.7,
             "#b8e186"
            ],
            [
             0.8,
             "#7fbc41"
            ],
            [
             0.9,
             "#4d9221"
            ],
            [
             1,
             "#276419"
            ]
           ],
           "sequential": [
            [
             0,
             "#0d0887"
            ],
            [
             0.1111111111111111,
             "#46039f"
            ],
            [
             0.2222222222222222,
             "#7201a8"
            ],
            [
             0.3333333333333333,
             "#9c179e"
            ],
            [
             0.4444444444444444,
             "#bd3786"
            ],
            [
             0.5555555555555556,
             "#d8576b"
            ],
            [
             0.6666666666666666,
             "#ed7953"
            ],
            [
             0.7777777777777778,
             "#fb9f3a"
            ],
            [
             0.8888888888888888,
             "#fdca26"
            ],
            [
             1,
             "#f0f921"
            ]
           ],
           "sequentialminus": [
            [
             0,
             "#0d0887"
            ],
            [
             0.1111111111111111,
             "#46039f"
            ],
            [
             0.2222222222222222,
             "#7201a8"
            ],
            [
             0.3333333333333333,
             "#9c179e"
            ],
            [
             0.4444444444444444,
             "#bd3786"
            ],
            [
             0.5555555555555556,
             "#d8576b"
            ],
            [
             0.6666666666666666,
             "#ed7953"
            ],
            [
             0.7777777777777778,
             "#fb9f3a"
            ],
            [
             0.8888888888888888,
             "#fdca26"
            ],
            [
             1,
             "#f0f921"
            ]
           ]
          },
          "colorway": [
           "#636efa",
           "#EF553B",
           "#00cc96",
           "#ab63fa",
           "#FFA15A",
           "#19d3f3",
           "#FF6692",
           "#B6E880",
           "#FF97FF",
           "#FECB52"
          ],
          "font": {
           "color": "#2a3f5f"
          },
          "geo": {
           "bgcolor": "white",
           "lakecolor": "white",
           "landcolor": "#E5ECF6",
           "showlakes": true,
           "showland": true,
           "subunitcolor": "white"
          },
          "hoverlabel": {
           "align": "left"
          },
          "hovermode": "closest",
          "mapbox": {
           "style": "light"
          },
          "paper_bgcolor": "white",
          "plot_bgcolor": "#E5ECF6",
          "polar": {
           "angularaxis": {
            "gridcolor": "white",
            "linecolor": "white",
            "ticks": ""
           },
           "bgcolor": "#E5ECF6",
           "radialaxis": {
            "gridcolor": "white",
            "linecolor": "white",
            "ticks": ""
           }
          },
          "scene": {
           "xaxis": {
            "backgroundcolor": "#E5ECF6",
            "gridcolor": "white",
            "gridwidth": 2,
            "linecolor": "white",
            "showbackground": true,
            "ticks": "",
            "zerolinecolor": "white"
           },
           "yaxis": {
            "backgroundcolor": "#E5ECF6",
            "gridcolor": "white",
            "gridwidth": 2,
            "linecolor": "white",
            "showbackground": true,
            "ticks": "",
            "zerolinecolor": "white"
           },
           "zaxis": {
            "backgroundcolor": "#E5ECF6",
            "gridcolor": "white",
            "gridwidth": 2,
            "linecolor": "white",
            "showbackground": true,
            "ticks": "",
            "zerolinecolor": "white"
           }
          },
          "shapedefaults": {
           "line": {
            "color": "#2a3f5f"
           }
          },
          "ternary": {
           "aaxis": {
            "gridcolor": "white",
            "linecolor": "white",
            "ticks": ""
           },
           "baxis": {
            "gridcolor": "white",
            "linecolor": "white",
            "ticks": ""
           },
           "bgcolor": "#E5ECF6",
           "caxis": {
            "gridcolor": "white",
            "linecolor": "white",
            "ticks": ""
           }
          },
          "title": {
           "x": 0.05
          },
          "xaxis": {
           "automargin": true,
           "gridcolor": "white",
           "linecolor": "white",
           "ticks": "",
           "title": {
            "standoff": 15
           },
           "zerolinecolor": "white",
           "zerolinewidth": 2
          },
          "yaxis": {
           "automargin": true,
           "gridcolor": "white",
           "linecolor": "white",
           "ticks": "",
           "title": {
            "standoff": 15
           },
           "zerolinecolor": "white",
           "zerolinewidth": 2
          }
         }
        },
        "title": {
         "text": "Training Data Latent Space",
         "x": 0.5
        }
       }
      },
      "text/html": [
       "<div>                            <div id=\"9c339aed-2e6a-4719-87ce-bc5cd34ed063\" class=\"plotly-graph-div\" style=\"height:525px; width:100%;\"></div>            <script type=\"text/javascript\">                require([\"plotly\"], function(Plotly) {                    window.PLOTLYENV=window.PLOTLYENV || {};                                    if (document.getElementById(\"9c339aed-2e6a-4719-87ce-bc5cd34ed063\")) {                    Plotly.newPlot(                        \"9c339aed-2e6a-4719-87ce-bc5cd34ed063\",                        [{\"customdata\":[[\"DV/DT High Fault\"],[\"A- Driver Fault\"],[\"+ DC I High Fault\"],[\"SCR Contactor Fault\"],[\"SNS PPS Missing\"],[\"Xmtr 3 Fiber Fault\"],[\"TPS Fault\"],[\"SNS PPS Missing\"],[\"+ DC I High Fault\"],[\"DV/DT High Fault\"],[\"DV/DT High Fault\"],[\"TPS Fault\"],[\"TPS Fault\"],[\"SNS PPS Missing\"],[\"SNS PPS Missing\"],[\"SNS PPS Missing\"],[\"TPS Fault\"],[\"SCR AC Input Fault\"],[\"SNS PPS Missing\"],[\"SCR Firing Circ Fault\"]],\"hovertemplate\":\"Classification Results=TP<br>Node 0=%{x}<br>Node 1=%{y}<br>Node 2=%{z}<br>Fault Type=%{customdata[0]}<extra></extra>\",\"legendgroup\":\"TP\",\"marker\":{\"color\":\"green\",\"symbol\":\"circle\"},\"mode\":\"markers\",\"name\":\"TP\",\"scene\":\"scene\",\"showlegend\":true,\"x\":[0.3844905197620392,0.758394181728363,0.9299419522285461,0.36222773790359497,0.3537222146987915,1.0690261125564575,0.22268496453762054,0.3560484051704407,0.9291220307350159,0.5345255732536316,0.6012079119682312,0.9026128053665161,-0.0,-0.0,0.3582392930984497,0.3563116192817688,0.16031597554683685,0.8913193941116333,0.9001338481903076,0.37306270003318787],\"y\":[1.208412528038025,-0.0,-0.0,-0.0,-0.0,-0.0,0.8581427335739136,-0.0,-0.0,1.2508537769317627,1.0952965021133423,-0.0,0.7155314683914185,-0.0,-0.0,-0.0,1.0407631397247314,-0.0,-0.0,-0.0],\"z\":[0.675214946269989,0.9580523371696472,0.6761095523834229,1.103886604309082,1.105427622795105,0.5333877205848694,0.9342241287231445,1.1114554405212402,0.681725025177002,0.4498380124568939,0.5786033868789673,0.7080443501472473,1.030030369758606,1.1033573150634766,1.116148829460144,1.1125922203063965,0.8588765263557434,0.7130481004714966,0.7051675915718079,1.145559549331665],\"type\":\"scatter3d\"},{\"customdata\":[[\"Run\"],[\"Run\"],[\"Run\"],[\"Run\"],[\"Run\"],[\"Run\"],[\"Run\"],[\"Run\"],[\"Run\"],[\"Run\"],[\"Run\"],[\"Run\"],[\"Run\"],[\"Run\"],[\"Run\"],[\"Run\"],[\"Run\"],[\"Run\"],[\"Run\"],[\"Run\"],[\"Run\"],[\"Run\"],[\"Run\"],[\"Run\"],[\"Run\"],[\"Run\"],[\"Run\"],[\"Run\"],[\"Run\"],[\"Run\"],[\"Run\"],[\"Run\"],[\"Run\"],[\"Run\"],[\"Run\"],[\"Run\"],[\"Run\"],[\"Run\"],[\"Run\"],[\"Run\"],[\"Run\"],[\"Run\"],[\"Run\"],[\"Run\"],[\"Run\"],[\"Run\"],[\"Run\"],[\"Run\"],[\"Run\"],[\"Run\"],[\"Run\"],[\"Run\"],[\"Run\"],[\"Run\"],[\"Run\"],[\"Run\"],[\"Run\"],[\"Run\"],[\"Run\"],[\"Run\"],[\"Run\"],[\"Run\"],[\"Run\"],[\"Run\"],[\"Run\"],[\"Run\"],[\"Run\"],[\"Run\"],[\"Run\"],[\"Run\"],[\"Run\"],[\"Run\"],[\"Run\"],[\"Run\"],[\"Run\"],[\"Run\"],[\"Run\"],[\"Run\"],[\"Run\"],[\"Run\"],[\"Run\"],[\"Run\"],[\"Run\"],[\"Run\"],[\"Run\"],[\"Run\"],[\"Run\"],[\"Run\"],[\"Run\"],[\"Run\"],[\"Run\"],[\"Run\"],[\"Run\"],[\"Run\"],[\"Run\"],[\"Run\"],[\"Run\"]],\"hovertemplate\":\"Classification Results=TN<br>Node 0=%{x}<br>Node 1=%{y}<br>Node 2=%{z}<br>Fault Type=%{customdata[0]}<extra></extra>\",\"legendgroup\":\"TN\",\"marker\":{\"color\":\"blue\",\"symbol\":\"circle\"},\"mode\":\"markers\",\"name\":\"TN\",\"scene\":\"scene\",\"showlegend\":true,\"x\":[0.9748899936676025,0.9760044813156128,0.9847084879875183,0.9822453260421753,1.154524564743042,0.974656879901886,0.9606269001960754,0.03671414032578468,1.1993951797485352,0.977634072303772,0.9628653526306152,0.9647465348243713,1.2268707752227783,0.9745825529098511,1.1599901914596558,0.9719552993774414,0.6661384105682373,0.9834321737289429,0.955473780632019,0.9599263072013855,0.9569024443626404,0.9859158992767334,1.2341948747634888,0.9704806208610535,0.9876499176025391,0.9802305698394775,0.9566994905471802,0.9890140295028687,0.9676777720451355,0.983242392539978,0.9465975761413574,0.9796953201293945,1.2214432954788208,0.9787856936454773,0.9798504710197449,0.9842506647109985,0.9640243053436279,0.983612596988678,0.9865579009056091,0.9689309000968933,-0.0,0.9812881946563721,0.9664115905761719,0.9832929968833923,0.9768221378326416,0.9638479351997375,1.181172251701355,0.9542360901832581,1.1839832067489624,0.9867953062057495,0.9798917174339294,0.9546337723731995,1.0314379930496216,1.1695106029510498,1.1611427068710327,0.9726802110671997,0.9781106114387512,1.1770128011703491,1.2242861986160278,0.9690232276916504,0.9804096221923828,0.9505200386047363,0.9499662518501282,0.990027129650116,0.9684092998504639,0.9790890216827393,0.9533272981643677,0.9838852286338806,0.951512336730957,1.1726481914520264,0.028839707374572754,0.9414421319961548,0.992648184299469,0.9719012975692749,0.9904024004936218,1.1955410242080688,0.9908570051193237,0.9884589314460754,0.9825284481048584,1.0344184637069702,0.9684541821479797,0.95213782787323,0.9845524430274963,0.968434751033783,1.2222508192062378,0.9537989497184753,0.9779286980628967,0.9486827850341797,0.9827058911323547,0.9750984907150269,0.9755217432975769,0.6638093590736389,0.949268102645874,0.9815430641174316,0.9636921882629395,0.97093266248703,1.2094361782073975],\"y\":[-0.0,-0.0,-0.0,-0.0,-0.0,-0.0,-0.0,-0.0,-0.0,-0.0,-0.0,-0.0,-0.0,-0.0,-0.0,-0.0,-0.0,-0.0,-0.0,-0.0,-0.0,-0.0,-0.0,-0.0,-0.0,-0.0,-0.0,-0.0,-0.0,-0.0,-0.0,-0.0,-0.0,-0.0,-0.0,-0.0,-0.0,-0.0,-0.0,-0.0,-0.0,-0.0,-0.0,-0.0,-0.0,-0.0,-0.0,-0.0,-0.0,-0.0,-0.0,-0.0,-0.0,-0.0,-0.0,-0.0,-0.0,-0.0,-0.0,-0.0,-0.0,-0.0,-0.0,-0.0,-0.0,-0.0,-0.0,-0.0,-0.0,-0.0,-0.0,-0.0,-0.0,-0.0,-0.0,-0.0,-0.0,-0.0,-0.0,-0.0,-0.0,-0.0,-0.0,-0.0,-0.0,-0.0,-0.0,-0.0,-0.0,-0.0,-0.0,-0.0,-0.0,-0.0,-0.0,-0.0,-0.0],\"z\":[0.6336520910263062,0.6398295760154724,0.6344287991523743,0.6321361064910889,0.3804185092449188,0.6420360803604126,0.6475565433502197,1.1547471284866333,0.30338600277900696,0.6395794153213501,0.6465060710906982,0.6575343012809753,0.28361862897872925,0.634734570980072,0.37196049094200134,0.6366410851478577,1.057106614112854,0.6372737884521484,0.6579458713531494,0.6554515361785889,0.6470889449119568,0.6327252388000488,0.27315476536750793,0.6406229138374329,0.6338899731636047,0.6368574500083923,0.6575530171394348,0.6238420605659485,0.641670823097229,0.6366444230079651,0.6703168153762817,0.6337276101112366,0.27400583028793335,0.6333094239234924,0.6380628943443298,0.631324052810669,0.6576827168464661,0.630461573600769,0.634535014629364,0.6370859742164612,1.1348742246627808,0.6384695172309875,0.6451852917671204,0.6348510384559631,0.6360877752304077,0.6444573402404785,0.3478032648563385,0.6573981642723083,0.32303839921951294,0.6290062069892883,0.6381455063819885,0.6493343710899353,0.5927162170410156,0.362774521112442,0.36214274168014526,0.6383517980575562,0.6394103765487671,0.3268643319606781,0.2919282615184784,0.6521419882774353,0.6228103041648865,0.6550951600074768,0.6668726205825806,0.6300375461578369,0.6422605514526367,0.6418087482452393,0.6571342349052429,0.6386325359344482,0.6550314426422119,0.34705406427383423,1.1569494009017944,0.6716731190681458,0.6285448670387268,0.6420938372612,0.6307753920555115,0.3050552010536194,0.631680428981781,0.6254038214683533,0.637311577796936,0.5940832495689392,0.645706057548523,0.6569008827209473,0.6339982748031616,0.6469125747680664,0.2751540541648865,0.6506101489067078,0.6330910921096802,0.6569716930389404,0.6313806772232056,0.6356338858604431,0.6434202194213867,1.0567524433135986,0.6595104932785034,0.6323391199111938,0.6460577845573425,0.6468886733055115,0.29880082607269287],\"type\":\"scatter3d\"},{\"customdata\":[[\"Xmtr 3 Fiber Fault\"],[\"Xmtr 1 Fiber     Fault\"],[\"Xmtr 1 Fiber     Fault\"],[\"A- Driver Fault\"],[\"Xmtr 3 Fiber Fault\"],[\"Xmtr 3 Fiber Fault\"],[\"Xmtr 2 Fiber Fault\"],[\"SNS PPS Missing\"],[\"A- Driver Fault\"]],\"hovertemplate\":\"Classification Results=FN<br>Node 0=%{x}<br>Node 1=%{y}<br>Node 2=%{z}<br>Fault Type=%{customdata[0]}<extra></extra>\",\"legendgroup\":\"FN\",\"marker\":{\"color\":\"red\",\"symbol\":\"circle\"},\"mode\":\"markers\",\"name\":\"FN\",\"scene\":\"scene\",\"showlegend\":true,\"x\":[0.9756275415420532,0.9527178406715393,0.9527178406715393,0.9898671507835388,0.96197110414505,0.9761762022972107,0.9877656102180481,1.2101669311523438,0.9734612107276917],\"y\":[-0.0,-0.0,-0.0,-0.0,-0.0,-0.0,-0.0,-0.0,-0.0],\"z\":[0.6379615068435669,0.6565835475921631,0.6565835475921631,0.6324307918548584,0.6444253325462341,0.636404275894165,0.6301487684249878,0.29902324080467224,0.639522910118103],\"type\":\"scatter3d\"}],                        {\"template\":{\"data\":{\"bar\":[{\"error_x\":{\"color\":\"#2a3f5f\"},\"error_y\":{\"color\":\"#2a3f5f\"},\"marker\":{\"line\":{\"color\":\"#E5ECF6\",\"width\":0.5},\"pattern\":{\"fillmode\":\"overlay\",\"size\":10,\"solidity\":0.2}},\"type\":\"bar\"}],\"barpolar\":[{\"marker\":{\"line\":{\"color\":\"#E5ECF6\",\"width\":0.5},\"pattern\":{\"fillmode\":\"overlay\",\"size\":10,\"solidity\":0.2}},\"type\":\"barpolar\"}],\"carpet\":[{\"aaxis\":{\"endlinecolor\":\"#2a3f5f\",\"gridcolor\":\"white\",\"linecolor\":\"white\",\"minorgridcolor\":\"white\",\"startlinecolor\":\"#2a3f5f\"},\"baxis\":{\"endlinecolor\":\"#2a3f5f\",\"gridcolor\":\"white\",\"linecolor\":\"white\",\"minorgridcolor\":\"white\",\"startlinecolor\":\"#2a3f5f\"},\"type\":\"carpet\"}],\"choropleth\":[{\"colorbar\":{\"outlinewidth\":0,\"ticks\":\"\"},\"type\":\"choropleth\"}],\"contour\":[{\"colorbar\":{\"outlinewidth\":0,\"ticks\":\"\"},\"colorscale\":[[0.0,\"#0d0887\"],[0.1111111111111111,\"#46039f\"],[0.2222222222222222,\"#7201a8\"],[0.3333333333333333,\"#9c179e\"],[0.4444444444444444,\"#bd3786\"],[0.5555555555555556,\"#d8576b\"],[0.6666666666666666,\"#ed7953\"],[0.7777777777777778,\"#fb9f3a\"],[0.8888888888888888,\"#fdca26\"],[1.0,\"#f0f921\"]],\"type\":\"contour\"}],\"contourcarpet\":[{\"colorbar\":{\"outlinewidth\":0,\"ticks\":\"\"},\"type\":\"contourcarpet\"}],\"heatmap\":[{\"colorbar\":{\"outlinewidth\":0,\"ticks\":\"\"},\"colorscale\":[[0.0,\"#0d0887\"],[0.1111111111111111,\"#46039f\"],[0.2222222222222222,\"#7201a8\"],[0.3333333333333333,\"#9c179e\"],[0.4444444444444444,\"#bd3786\"],[0.5555555555555556,\"#d8576b\"],[0.6666666666666666,\"#ed7953\"],[0.7777777777777778,\"#fb9f3a\"],[0.8888888888888888,\"#fdca26\"],[1.0,\"#f0f921\"]],\"type\":\"heatmap\"}],\"heatmapgl\":[{\"colorbar\":{\"outlinewidth\":0,\"ticks\":\"\"},\"colorscale\":[[0.0,\"#0d0887\"],[0.1111111111111111,\"#46039f\"],[0.2222222222222222,\"#7201a8\"],[0.3333333333333333,\"#9c179e\"],[0.4444444444444444,\"#bd3786\"],[0.5555555555555556,\"#d8576b\"],[0.6666666666666666,\"#ed7953\"],[0.7777777777777778,\"#fb9f3a\"],[0.8888888888888888,\"#fdca26\"],[1.0,\"#f0f921\"]],\"type\":\"heatmapgl\"}],\"histogram\":[{\"marker\":{\"pattern\":{\"fillmode\":\"overlay\",\"size\":10,\"solidity\":0.2}},\"type\":\"histogram\"}],\"histogram2d\":[{\"colorbar\":{\"outlinewidth\":0,\"ticks\":\"\"},\"colorscale\":[[0.0,\"#0d0887\"],[0.1111111111111111,\"#46039f\"],[0.2222222222222222,\"#7201a8\"],[0.3333333333333333,\"#9c179e\"],[0.4444444444444444,\"#bd3786\"],[0.5555555555555556,\"#d8576b\"],[0.6666666666666666,\"#ed7953\"],[0.7777777777777778,\"#fb9f3a\"],[0.8888888888888888,\"#fdca26\"],[1.0,\"#f0f921\"]],\"type\":\"histogram2d\"}],\"histogram2dcontour\":[{\"colorbar\":{\"outlinewidth\":0,\"ticks\":\"\"},\"colorscale\":[[0.0,\"#0d0887\"],[0.1111111111111111,\"#46039f\"],[0.2222222222222222,\"#7201a8\"],[0.3333333333333333,\"#9c179e\"],[0.4444444444444444,\"#bd3786\"],[0.5555555555555556,\"#d8576b\"],[0.6666666666666666,\"#ed7953\"],[0.7777777777777778,\"#fb9f3a\"],[0.8888888888888888,\"#fdca26\"],[1.0,\"#f0f921\"]],\"type\":\"histogram2dcontour\"}],\"mesh3d\":[{\"colorbar\":{\"outlinewidth\":0,\"ticks\":\"\"},\"type\":\"mesh3d\"}],\"parcoords\":[{\"line\":{\"colorbar\":{\"outlinewidth\":0,\"ticks\":\"\"}},\"type\":\"parcoords\"}],\"pie\":[{\"automargin\":true,\"type\":\"pie\"}],\"scatter\":[{\"marker\":{\"colorbar\":{\"outlinewidth\":0,\"ticks\":\"\"}},\"type\":\"scatter\"}],\"scatter3d\":[{\"line\":{\"colorbar\":{\"outlinewidth\":0,\"ticks\":\"\"}},\"marker\":{\"colorbar\":{\"outlinewidth\":0,\"ticks\":\"\"}},\"type\":\"scatter3d\"}],\"scattercarpet\":[{\"marker\":{\"colorbar\":{\"outlinewidth\":0,\"ticks\":\"\"}},\"type\":\"scattercarpet\"}],\"scattergeo\":[{\"marker\":{\"colorbar\":{\"outlinewidth\":0,\"ticks\":\"\"}},\"type\":\"scattergeo\"}],\"scattergl\":[{\"marker\":{\"colorbar\":{\"outlinewidth\":0,\"ticks\":\"\"}},\"type\":\"scattergl\"}],\"scattermapbox\":[{\"marker\":{\"colorbar\":{\"outlinewidth\":0,\"ticks\":\"\"}},\"type\":\"scattermapbox\"}],\"scatterpolar\":[{\"marker\":{\"colorbar\":{\"outlinewidth\":0,\"ticks\":\"\"}},\"type\":\"scatterpolar\"}],\"scatterpolargl\":[{\"marker\":{\"colorbar\":{\"outlinewidth\":0,\"ticks\":\"\"}},\"type\":\"scatterpolargl\"}],\"scatterternary\":[{\"marker\":{\"colorbar\":{\"outlinewidth\":0,\"ticks\":\"\"}},\"type\":\"scatterternary\"}],\"surface\":[{\"colorbar\":{\"outlinewidth\":0,\"ticks\":\"\"},\"colorscale\":[[0.0,\"#0d0887\"],[0.1111111111111111,\"#46039f\"],[0.2222222222222222,\"#7201a8\"],[0.3333333333333333,\"#9c179e\"],[0.4444444444444444,\"#bd3786\"],[0.5555555555555556,\"#d8576b\"],[0.6666666666666666,\"#ed7953\"],[0.7777777777777778,\"#fb9f3a\"],[0.8888888888888888,\"#fdca26\"],[1.0,\"#f0f921\"]],\"type\":\"surface\"}],\"table\":[{\"cells\":{\"fill\":{\"color\":\"#EBF0F8\"},\"line\":{\"color\":\"white\"}},\"header\":{\"fill\":{\"color\":\"#C8D4E3\"},\"line\":{\"color\":\"white\"}},\"type\":\"table\"}]},\"layout\":{\"annotationdefaults\":{\"arrowcolor\":\"#2a3f5f\",\"arrowhead\":0,\"arrowwidth\":1},\"autotypenumbers\":\"strict\",\"coloraxis\":{\"colorbar\":{\"outlinewidth\":0,\"ticks\":\"\"}},\"colorscale\":{\"diverging\":[[0,\"#8e0152\"],[0.1,\"#c51b7d\"],[0.2,\"#de77ae\"],[0.3,\"#f1b6da\"],[0.4,\"#fde0ef\"],[0.5,\"#f7f7f7\"],[0.6,\"#e6f5d0\"],[0.7,\"#b8e186\"],[0.8,\"#7fbc41\"],[0.9,\"#4d9221\"],[1,\"#276419\"]],\"sequential\":[[0.0,\"#0d0887\"],[0.1111111111111111,\"#46039f\"],[0.2222222222222222,\"#7201a8\"],[0.3333333333333333,\"#9c179e\"],[0.4444444444444444,\"#bd3786\"],[0.5555555555555556,\"#d8576b\"],[0.6666666666666666,\"#ed7953\"],[0.7777777777777778,\"#fb9f3a\"],[0.8888888888888888,\"#fdca26\"],[1.0,\"#f0f921\"]],\"sequentialminus\":[[0.0,\"#0d0887\"],[0.1111111111111111,\"#46039f\"],[0.2222222222222222,\"#7201a8\"],[0.3333333333333333,\"#9c179e\"],[0.4444444444444444,\"#bd3786\"],[0.5555555555555556,\"#d8576b\"],[0.6666666666666666,\"#ed7953\"],[0.7777777777777778,\"#fb9f3a\"],[0.8888888888888888,\"#fdca26\"],[1.0,\"#f0f921\"]]},\"colorway\":[\"#636efa\",\"#EF553B\",\"#00cc96\",\"#ab63fa\",\"#FFA15A\",\"#19d3f3\",\"#FF6692\",\"#B6E880\",\"#FF97FF\",\"#FECB52\"],\"font\":{\"color\":\"#2a3f5f\"},\"geo\":{\"bgcolor\":\"white\",\"lakecolor\":\"white\",\"landcolor\":\"#E5ECF6\",\"showlakes\":true,\"showland\":true,\"subunitcolor\":\"white\"},\"hoverlabel\":{\"align\":\"left\"},\"hovermode\":\"closest\",\"mapbox\":{\"style\":\"light\"},\"paper_bgcolor\":\"white\",\"plot_bgcolor\":\"#E5ECF6\",\"polar\":{\"angularaxis\":{\"gridcolor\":\"white\",\"linecolor\":\"white\",\"ticks\":\"\"},\"bgcolor\":\"#E5ECF6\",\"radialaxis\":{\"gridcolor\":\"white\",\"linecolor\":\"white\",\"ticks\":\"\"}},\"scene\":{\"xaxis\":{\"backgroundcolor\":\"#E5ECF6\",\"gridcolor\":\"white\",\"gridwidth\":2,\"linecolor\":\"white\",\"showbackground\":true,\"ticks\":\"\",\"zerolinecolor\":\"white\"},\"yaxis\":{\"backgroundcolor\":\"#E5ECF6\",\"gridcolor\":\"white\",\"gridwidth\":2,\"linecolor\":\"white\",\"showbackground\":true,\"ticks\":\"\",\"zerolinecolor\":\"white\"},\"zaxis\":{\"backgroundcolor\":\"#E5ECF6\",\"gridcolor\":\"white\",\"gridwidth\":2,\"linecolor\":\"white\",\"showbackground\":true,\"ticks\":\"\",\"zerolinecolor\":\"white\"}},\"shapedefaults\":{\"line\":{\"color\":\"#2a3f5f\"}},\"ternary\":{\"aaxis\":{\"gridcolor\":\"white\",\"linecolor\":\"white\",\"ticks\":\"\"},\"baxis\":{\"gridcolor\":\"white\",\"linecolor\":\"white\",\"ticks\":\"\"},\"bgcolor\":\"#E5ECF6\",\"caxis\":{\"gridcolor\":\"white\",\"linecolor\":\"white\",\"ticks\":\"\"}},\"title\":{\"x\":0.05},\"xaxis\":{\"automargin\":true,\"gridcolor\":\"white\",\"linecolor\":\"white\",\"ticks\":\"\",\"title\":{\"standoff\":15},\"zerolinecolor\":\"white\",\"zerolinewidth\":2},\"yaxis\":{\"automargin\":true,\"gridcolor\":\"white\",\"linecolor\":\"white\",\"ticks\":\"\",\"title\":{\"standoff\":15},\"zerolinecolor\":\"white\",\"zerolinewidth\":2}}},\"scene\":{\"domain\":{\"x\":[0.0,1.0],\"y\":[0.0,1.0]},\"xaxis\":{\"title\":{\"text\":\"Node 0\"}},\"yaxis\":{\"title\":{\"text\":\"Node 1\"}},\"zaxis\":{\"title\":{\"text\":\"Node 2\"}}},\"legend\":{\"title\":{\"text\":\"Classification Results\"},\"tracegroupgap\":0},\"margin\":{\"t\":60},\"title\":{\"text\":\"Training Data Latent Space\",\"x\":0.5}},                        {\"responsive\": true}                    ).then(function(){\n",
       "                            \n",
       "var gd = document.getElementById('9c339aed-2e6a-4719-87ce-bc5cd34ed063');\n",
       "var x = new MutationObserver(function (mutations, observer) {{\n",
       "        var display = window.getComputedStyle(gd).display;\n",
       "        if (!display || display === 'none') {{\n",
       "            console.log([gd, 'removed!']);\n",
       "            Plotly.purge(gd);\n",
       "            observer.disconnect();\n",
       "        }}\n",
       "}});\n",
       "\n",
       "// Listen for the removal of the full notebook cells\n",
       "var notebookContainer = gd.closest('#notebook-container');\n",
       "if (notebookContainer) {{\n",
       "    x.observe(notebookContainer, {childList: true});\n",
       "}}\n",
       "\n",
       "// Listen for the clearing of the current output cell\n",
       "var outputEl = gd.closest('.output');\n",
       "if (outputEl) {{\n",
       "    x.observe(outputEl, {childList: true});\n",
       "}}\n",
       "\n",
       "                        })                };                });            </script>        </div>"
      ]
     },
     "metadata": {},
     "output_type": "display_data"
    }
   ],
   "source": [
    "## Train Vis:\n",
    "training_classifications = get_grading(training_predictions, y_train)\n",
    "y_train_type = combined_y_type_shuffled[0:126]\n",
    "\n",
    "\n",
    "train_data_latent_space = pd.DataFrame({'Node 0': latent_representation_train.T[0],\n",
    "                                       'Node 1': latent_representation_train.T[1],\n",
    "                                       'Node 2': latent_representation_train.T[2],\n",
    "                                       'Classification Results': training_classifications, \n",
    "                                       'Fault Type':y_train_type})\n",
    "\n",
    "\n",
    "fig = px.scatter_3d(pd.DataFrame(train_data_latent_space), x='Node 0', \n",
    "                    y='Node 1', z='Node 2',\n",
    "                color='Classification Results',\n",
    "                    hover_data = ['Fault Type'],\n",
    "                color_discrete_map={\n",
    "                'TN': 'blue',\n",
    "                'TP': 'green', \n",
    "                'FP': 'orange',\n",
    "                'FN': 'red'} \n",
    "                   )\n",
    "fig.update_layout(title_text='Training Data Latent Space', title_x=0.5)\n",
    "\n",
    "fig.show()"
   ]
  },
  {
   "cell_type": "code",
   "execution_count": 73,
   "id": "8a3f7590-a604-4fe4-a06a-a7438af3814c",
   "metadata": {},
   "outputs": [
    {
     "data": {
      "application/vnd.plotly.v1+json": {
       "config": {
        "plotlyServerURL": "https://plot.ly"
       },
       "data": [
        {
         "customdata": [
          [
           "Run"
          ],
          [
           "Run"
          ],
          [
           "Run"
          ],
          [
           "Run"
          ],
          [
           "Run"
          ],
          [
           "Run"
          ],
          [
           "Run"
          ],
          [
           "Run"
          ],
          [
           "Run"
          ],
          [
           "Run"
          ],
          [
           "Run"
          ],
          [
           "Run"
          ],
          [
           "Run"
          ],
          [
           "Run"
          ],
          [
           "Run"
          ],
          [
           "Run"
          ],
          [
           "Run"
          ],
          [
           "Run"
          ],
          [
           "Run"
          ],
          [
           "Run"
          ],
          [
           "Run"
          ],
          [
           "Run"
          ],
          [
           "Run"
          ],
          [
           "Run"
          ],
          [
           "Run"
          ],
          [
           "Run"
          ],
          [
           "Run"
          ],
          [
           "Run"
          ],
          [
           "Run"
          ],
          [
           "Run"
          ],
          [
           "Run"
          ],
          [
           "Run"
          ],
          [
           "Run"
          ],
          [
           "Run"
          ],
          [
           "Run"
          ],
          [
           "Run"
          ],
          [
           "Run"
          ],
          [
           "Run"
          ],
          [
           "Run"
          ],
          [
           "Run"
          ],
          [
           "Run"
          ],
          [
           "Run"
          ],
          [
           "Run"
          ],
          [
           "Run"
          ],
          [
           "Run"
          ],
          [
           "Run"
          ],
          [
           "Run"
          ],
          [
           "Run"
          ],
          [
           "Run"
          ],
          [
           "Run"
          ],
          [
           "Run"
          ],
          [
           "Run"
          ],
          [
           "Run"
          ],
          [
           "Run"
          ],
          [
           "Run"
          ],
          [
           "Run"
          ],
          [
           "Run"
          ],
          [
           "Run"
          ]
         ],
         "hovertemplate": "Classification Results=TN<br>Node 0=%{x}<br>Node 1=%{y}<br>Node 2=%{z}<br>Fault Type=%{customdata[0]}<extra></extra>",
         "legendgroup": "TN",
         "marker": {
          "color": "blue",
          "symbol": "circle"
         },
         "mode": "markers",
         "name": "TN",
         "scene": "scene",
         "showlegend": true,
         "type": "scatter3d",
         "x": [
          0.981840968132019,
          0.9723352789878845,
          1.151004433631897,
          0.9833012819290161,
          0.9787074327468872,
          0.9885483384132385,
          0.9873170256614685,
          0.9896458983421326,
          1.1530309915542603,
          0.9990502595901489,
          0.9762145280838013,
          0.9899700284004211,
          0.9749265909194946,
          1.0022705793380737,
          0.9858380556106567,
          0.9991182088851929,
          0.9977995157241821,
          0.975922703742981,
          0.9676552414894104,
          0.9805964231491089,
          0.9946384429931641,
          0.9727330207824707,
          0.9864993691444397,
          0.9962800145149231,
          0.9665113687515259,
          0.9456660151481628,
          0.9440752267837524,
          0.9645537734031677,
          0.9411153197288513,
          0.9604094624519348,
          0.9663641452789307,
          0.9843587279319763,
          0.9795857667922974,
          0.9743661284446716,
          0.9739962220191956,
          0.9653521776199341,
          0.9568802118301392,
          0.9776117205619812,
          0.971770703792572,
          0.943458616733551,
          0.9487724900245667,
          0.9561285972595215,
          1.18973708152771,
          0.9538575410842896,
          1.1977331638336182,
          0.9540544152259827,
          0.9826368093490601,
          0.9701545834541321,
          0.9682332873344421,
          0.9696526527404785,
          0.9787383079528809,
          0.978830099105835,
          0.9354267120361328,
          0.965168833732605,
          0.9746561050415039,
          1.2104246616363525,
          0.9663605690002441,
          0.9565590023994446
         ],
         "y": [
          0,
          0,
          0,
          0,
          0,
          0,
          0,
          0,
          0,
          0,
          0,
          0,
          0,
          0,
          0,
          0,
          0,
          0,
          0,
          0,
          0,
          0,
          0,
          0,
          0,
          0,
          0,
          0,
          0,
          0,
          0,
          0,
          0,
          0,
          0,
          0,
          0,
          0,
          0,
          0,
          0,
          0,
          0,
          0,
          0,
          0,
          0,
          0,
          0,
          0,
          0,
          0,
          0,
          0,
          0,
          0,
          0,
          0
         ],
         "z": [
          0.6345207691192627,
          0.6482977271080017,
          0.4210129678249359,
          0.6408980488777161,
          0.6491621136665344,
          0.6335767507553101,
          0.6395485401153564,
          0.6328728199005127,
          0.3922029435634613,
          0.6289193630218506,
          0.6424990892410278,
          0.6352325677871704,
          0.6501958966255188,
          0.6255620718002319,
          0.6357022523880005,
          0.6286059617996216,
          0.6342876553535461,
          0.6467098593711853,
          0.6559304594993591,
          0.6393147706985474,
          0.633249044418335,
          0.6449167132377625,
          0.6375920176506042,
          0.6368151903152466,
          0.6422837376594543,
          0.6660661697387695,
          0.6603848338127136,
          0.6410741806030273,
          0.6614466905593872,
          0.6479663252830505,
          0.6393008828163147,
          0.6297290921211243,
          0.6351157426834106,
          0.6339535117149353,
          0.6396888494491577,
          0.642484188079834,
          0.6531252264976501,
          0.6363949775695801,
          0.6360087990760803,
          0.6666575074195862,
          0.6547064781188965,
          0.651839017868042,
          0.3207157552242279,
          0.6538527011871338,
          0.2992526590824127,
          0.6507918834686279,
          0.6291888952255249,
          0.637801468372345,
          0.636384904384613,
          0.6382623314857483,
          0.6366629600524902,
          0.6334725618362427,
          0.6580675840377808,
          0.6334541440010071,
          0.6323850750923157,
          0.2922110855579376,
          0.6391733884811401,
          0.6543919444084167
         ]
        },
        {
         "customdata": [
          [
           "A- Driver Fault"
          ],
          [
           "Xmtr 3 Fiber Fault"
          ],
          [
           "Xmtr 3 Fiber Fault"
          ],
          [
           "A- Driver Fault"
          ],
          [
           "Xmtr 3 Fiber Fault"
          ],
          [
           "Xmtr 2 Fiber Fault"
          ],
          [
           "Xmtr 3 Fiber Fault"
          ],
          [
           "Xmtr 3 Fiber Fault"
          ]
         ],
         "hovertemplate": "Classification Results=FN<br>Node 0=%{x}<br>Node 1=%{y}<br>Node 2=%{z}<br>Fault Type=%{customdata[0]}<extra></extra>",
         "legendgroup": "FN",
         "marker": {
          "color": "red",
          "symbol": "circle"
         },
         "mode": "markers",
         "name": "FN",
         "scene": "scene",
         "showlegend": true,
         "type": "scatter3d",
         "x": [
          0.9960232973098755,
          0.9917444586753845,
          0.9908414483070374,
          0.9975797533988953,
          1.0011255741119385,
          1.150488257408142,
          0.9918233752250671,
          0.9824766516685486
         ],
         "y": [
          0,
          0,
          0,
          0,
          0,
          0,
          0,
          0
         ],
         "z": [
          0.6324247121810913,
          0.6312218904495239,
          0.6316556930541992,
          0.6314453482627869,
          0.6284192204475403,
          0.39245858788490295,
          0.6339092254638672,
          0.6277748942375183
         ]
        },
        {
         "customdata": [
          [
           "TPS Fault"
          ],
          [
           "TPS Fault"
          ],
          [
           "TPS Fault"
          ],
          [
           "A+ Driver Fault"
          ],
          [
           "Dump Switch Fault"
          ],
          [
           "TPS Fault"
          ],
          [
           "TPS Fault"
          ],
          [
           "A- Driver Fault"
          ],
          [
           "SNS PPS Missing"
          ],
          [
           "SNS PPS Missing"
          ],
          [
           "TPS Fault"
          ],
          [
           "TPS Fault"
          ],
          [
           "Xmtr 2 Fiber Fault"
          ]
         ],
         "hovertemplate": "Classification Results=TP<br>Node 0=%{x}<br>Node 1=%{y}<br>Node 2=%{z}<br>Fault Type=%{customdata[0]}<extra></extra>",
         "legendgroup": "TP",
         "marker": {
          "color": "green",
          "symbol": "circle"
         },
         "mode": "markers",
         "name": "TP",
         "scene": "scene",
         "showlegend": true,
         "type": "scatter3d",
         "x": [
          0.19322073459625244,
          0.05541016533970833,
          0,
          1.0606197118759155,
          0.5421785712242126,
          0.1666208952665329,
          0.22850117087364197,
          0.7448415756225586,
          0.30950281023979187,
          0.30327820777893066,
          0,
          0.06359091401100159,
          0.8706496953964233
         ],
         "y": [
          1.0062994956970215,
          0.6870934963226318,
          0.5288774371147156,
          0,
          0,
          0.28474536538124084,
          0.6390852332115173,
          0,
          0,
          0,
          0.6076073050498962,
          0.7495914697647095,
          0
         ],
         "z": [
          0.774077296257019,
          1.022985816001892,
          1.048783779144287,
          0.5349576473236084,
          1.13151216506958,
          0.9928984642028809,
          0.934718906879425,
          0.9998051524162292,
          1.0987235307693481,
          1.083683967590332,
          1.0571622848510742,
          1.0004526376724243,
          0.7493976354598999
         ]
        },
        {
         "customdata": [
          [
           "Run"
          ],
          [
           "Run"
          ]
         ],
         "hovertemplate": "Classification Results=FP<br>Node 0=%{x}<br>Node 1=%{y}<br>Node 2=%{z}<br>Fault Type=%{customdata[0]}<extra></extra>",
         "legendgroup": "FP",
         "marker": {
          "color": "orange",
          "symbol": "circle"
         },
         "mode": "markers",
         "name": "FP",
         "scene": "scene",
         "showlegend": true,
         "type": "scatter3d",
         "x": [
          0.17013809084892273,
          1.1454927921295166
         ],
         "y": [
          0,
          0
         ],
         "z": [
          1.2650140523910522,
          0.42412659525871277
         ]
        }
       ],
       "layout": {
        "autosize": true,
        "dragmode": "pan",
        "legend": {
         "title": {
          "text": "Classification Results"
         },
         "tracegroupgap": 0
        },
        "margin": {
         "t": 60
        },
        "scene": {
         "aspectmode": "auto",
         "aspectratio": {
          "x": 1.1438641841598811,
          "y": 0.9509637304562693,
          "z": 0.919309154276945
         },
         "camera": {
          "center": {
           "x": 0.012911203561821245,
           "y": -0.029571126826953287,
           "z": 0.01665992326513204
          },
          "eye": {
           "x": 1.2629112035618215,
           "y": 1.2204288731730468,
           "z": 1.266659923265132
          },
          "projection": {
           "type": "perspective"
          },
          "up": {
           "x": 0,
           "y": 0,
           "z": 1
          }
         },
         "domain": {
          "x": [
           0,
           1
          ],
          "y": [
           0,
           1
          ]
         },
         "dragmode": "pan",
         "xaxis": {
          "title": {
           "text": "Node 0"
          },
          "type": "linear"
         },
         "yaxis": {
          "title": {
           "text": "Node 1"
          },
          "type": "linear"
         },
         "zaxis": {
          "title": {
           "text": "Node 2"
          },
          "type": "linear"
         }
        },
        "template": {
         "data": {
          "bar": [
           {
            "error_x": {
             "color": "#2a3f5f"
            },
            "error_y": {
             "color": "#2a3f5f"
            },
            "marker": {
             "line": {
              "color": "#E5ECF6",
              "width": 0.5
             },
             "pattern": {
              "fillmode": "overlay",
              "size": 10,
              "solidity": 0.2
             }
            },
            "type": "bar"
           }
          ],
          "barpolar": [
           {
            "marker": {
             "line": {
              "color": "#E5ECF6",
              "width": 0.5
             },
             "pattern": {
              "fillmode": "overlay",
              "size": 10,
              "solidity": 0.2
             }
            },
            "type": "barpolar"
           }
          ],
          "carpet": [
           {
            "aaxis": {
             "endlinecolor": "#2a3f5f",
             "gridcolor": "white",
             "linecolor": "white",
             "minorgridcolor": "white",
             "startlinecolor": "#2a3f5f"
            },
            "baxis": {
             "endlinecolor": "#2a3f5f",
             "gridcolor": "white",
             "linecolor": "white",
             "minorgridcolor": "white",
             "startlinecolor": "#2a3f5f"
            },
            "type": "carpet"
           }
          ],
          "choropleth": [
           {
            "colorbar": {
             "outlinewidth": 0,
             "ticks": ""
            },
            "type": "choropleth"
           }
          ],
          "contour": [
           {
            "colorbar": {
             "outlinewidth": 0,
             "ticks": ""
            },
            "colorscale": [
             [
              0,
              "#0d0887"
             ],
             [
              0.1111111111111111,
              "#46039f"
             ],
             [
              0.2222222222222222,
              "#7201a8"
             ],
             [
              0.3333333333333333,
              "#9c179e"
             ],
             [
              0.4444444444444444,
              "#bd3786"
             ],
             [
              0.5555555555555556,
              "#d8576b"
             ],
             [
              0.6666666666666666,
              "#ed7953"
             ],
             [
              0.7777777777777778,
              "#fb9f3a"
             ],
             [
              0.8888888888888888,
              "#fdca26"
             ],
             [
              1,
              "#f0f921"
             ]
            ],
            "type": "contour"
           }
          ],
          "contourcarpet": [
           {
            "colorbar": {
             "outlinewidth": 0,
             "ticks": ""
            },
            "type": "contourcarpet"
           }
          ],
          "heatmap": [
           {
            "colorbar": {
             "outlinewidth": 0,
             "ticks": ""
            },
            "colorscale": [
             [
              0,
              "#0d0887"
             ],
             [
              0.1111111111111111,
              "#46039f"
             ],
             [
              0.2222222222222222,
              "#7201a8"
             ],
             [
              0.3333333333333333,
              "#9c179e"
             ],
             [
              0.4444444444444444,
              "#bd3786"
             ],
             [
              0.5555555555555556,
              "#d8576b"
             ],
             [
              0.6666666666666666,
              "#ed7953"
             ],
             [
              0.7777777777777778,
              "#fb9f3a"
             ],
             [
              0.8888888888888888,
              "#fdca26"
             ],
             [
              1,
              "#f0f921"
             ]
            ],
            "type": "heatmap"
           }
          ],
          "heatmapgl": [
           {
            "colorbar": {
             "outlinewidth": 0,
             "ticks": ""
            },
            "colorscale": [
             [
              0,
              "#0d0887"
             ],
             [
              0.1111111111111111,
              "#46039f"
             ],
             [
              0.2222222222222222,
              "#7201a8"
             ],
             [
              0.3333333333333333,
              "#9c179e"
             ],
             [
              0.4444444444444444,
              "#bd3786"
             ],
             [
              0.5555555555555556,
              "#d8576b"
             ],
             [
              0.6666666666666666,
              "#ed7953"
             ],
             [
              0.7777777777777778,
              "#fb9f3a"
             ],
             [
              0.8888888888888888,
              "#fdca26"
             ],
             [
              1,
              "#f0f921"
             ]
            ],
            "type": "heatmapgl"
           }
          ],
          "histogram": [
           {
            "marker": {
             "pattern": {
              "fillmode": "overlay",
              "size": 10,
              "solidity": 0.2
             }
            },
            "type": "histogram"
           }
          ],
          "histogram2d": [
           {
            "colorbar": {
             "outlinewidth": 0,
             "ticks": ""
            },
            "colorscale": [
             [
              0,
              "#0d0887"
             ],
             [
              0.1111111111111111,
              "#46039f"
             ],
             [
              0.2222222222222222,
              "#7201a8"
             ],
             [
              0.3333333333333333,
              "#9c179e"
             ],
             [
              0.4444444444444444,
              "#bd3786"
             ],
             [
              0.5555555555555556,
              "#d8576b"
             ],
             [
              0.6666666666666666,
              "#ed7953"
             ],
             [
              0.7777777777777778,
              "#fb9f3a"
             ],
             [
              0.8888888888888888,
              "#fdca26"
             ],
             [
              1,
              "#f0f921"
             ]
            ],
            "type": "histogram2d"
           }
          ],
          "histogram2dcontour": [
           {
            "colorbar": {
             "outlinewidth": 0,
             "ticks": ""
            },
            "colorscale": [
             [
              0,
              "#0d0887"
             ],
             [
              0.1111111111111111,
              "#46039f"
             ],
             [
              0.2222222222222222,
              "#7201a8"
             ],
             [
              0.3333333333333333,
              "#9c179e"
             ],
             [
              0.4444444444444444,
              "#bd3786"
             ],
             [
              0.5555555555555556,
              "#d8576b"
             ],
             [
              0.6666666666666666,
              "#ed7953"
             ],
             [
              0.7777777777777778,
              "#fb9f3a"
             ],
             [
              0.8888888888888888,
              "#fdca26"
             ],
             [
              1,
              "#f0f921"
             ]
            ],
            "type": "histogram2dcontour"
           }
          ],
          "mesh3d": [
           {
            "colorbar": {
             "outlinewidth": 0,
             "ticks": ""
            },
            "type": "mesh3d"
           }
          ],
          "parcoords": [
           {
            "line": {
             "colorbar": {
              "outlinewidth": 0,
              "ticks": ""
             }
            },
            "type": "parcoords"
           }
          ],
          "pie": [
           {
            "automargin": true,
            "type": "pie"
           }
          ],
          "scatter": [
           {
            "marker": {
             "colorbar": {
              "outlinewidth": 0,
              "ticks": ""
             }
            },
            "type": "scatter"
           }
          ],
          "scatter3d": [
           {
            "line": {
             "colorbar": {
              "outlinewidth": 0,
              "ticks": ""
             }
            },
            "marker": {
             "colorbar": {
              "outlinewidth": 0,
              "ticks": ""
             }
            },
            "type": "scatter3d"
           }
          ],
          "scattercarpet": [
           {
            "marker": {
             "colorbar": {
              "outlinewidth": 0,
              "ticks": ""
             }
            },
            "type": "scattercarpet"
           }
          ],
          "scattergeo": [
           {
            "marker": {
             "colorbar": {
              "outlinewidth": 0,
              "ticks": ""
             }
            },
            "type": "scattergeo"
           }
          ],
          "scattergl": [
           {
            "marker": {
             "colorbar": {
              "outlinewidth": 0,
              "ticks": ""
             }
            },
            "type": "scattergl"
           }
          ],
          "scattermapbox": [
           {
            "marker": {
             "colorbar": {
              "outlinewidth": 0,
              "ticks": ""
             }
            },
            "type": "scattermapbox"
           }
          ],
          "scatterpolar": [
           {
            "marker": {
             "colorbar": {
              "outlinewidth": 0,
              "ticks": ""
             }
            },
            "type": "scatterpolar"
           }
          ],
          "scatterpolargl": [
           {
            "marker": {
             "colorbar": {
              "outlinewidth": 0,
              "ticks": ""
             }
            },
            "type": "scatterpolargl"
           }
          ],
          "scatterternary": [
           {
            "marker": {
             "colorbar": {
              "outlinewidth": 0,
              "ticks": ""
             }
            },
            "type": "scatterternary"
           }
          ],
          "surface": [
           {
            "colorbar": {
             "outlinewidth": 0,
             "ticks": ""
            },
            "colorscale": [
             [
              0,
              "#0d0887"
             ],
             [
              0.1111111111111111,
              "#46039f"
             ],
             [
              0.2222222222222222,
              "#7201a8"
             ],
             [
              0.3333333333333333,
              "#9c179e"
             ],
             [
              0.4444444444444444,
              "#bd3786"
             ],
             [
              0.5555555555555556,
              "#d8576b"
             ],
             [
              0.6666666666666666,
              "#ed7953"
             ],
             [
              0.7777777777777778,
              "#fb9f3a"
             ],
             [
              0.8888888888888888,
              "#fdca26"
             ],
             [
              1,
              "#f0f921"
             ]
            ],
            "type": "surface"
           }
          ],
          "table": [
           {
            "cells": {
             "fill": {
              "color": "#EBF0F8"
             },
             "line": {
              "color": "white"
             }
            },
            "header": {
             "fill": {
              "color": "#C8D4E3"
             },
             "line": {
              "color": "white"
             }
            },
            "type": "table"
           }
          ]
         },
         "layout": {
          "annotationdefaults": {
           "arrowcolor": "#2a3f5f",
           "arrowhead": 0,
           "arrowwidth": 1
          },
          "autotypenumbers": "strict",
          "coloraxis": {
           "colorbar": {
            "outlinewidth": 0,
            "ticks": ""
           }
          },
          "colorscale": {
           "diverging": [
            [
             0,
             "#8e0152"
            ],
            [
             0.1,
             "#c51b7d"
            ],
            [
             0.2,
             "#de77ae"
            ],
            [
             0.3,
             "#f1b6da"
            ],
            [
             0.4,
             "#fde0ef"
            ],
            [
             0.5,
             "#f7f7f7"
            ],
            [
             0.6,
             "#e6f5d0"
            ],
            [
             0.7,
             "#b8e186"
            ],
            [
             0.8,
             "#7fbc41"
            ],
            [
             0.9,
             "#4d9221"
            ],
            [
             1,
             "#276419"
            ]
           ],
           "sequential": [
            [
             0,
             "#0d0887"
            ],
            [
             0.1111111111111111,
             "#46039f"
            ],
            [
             0.2222222222222222,
             "#7201a8"
            ],
            [
             0.3333333333333333,
             "#9c179e"
            ],
            [
             0.4444444444444444,
             "#bd3786"
            ],
            [
             0.5555555555555556,
             "#d8576b"
            ],
            [
             0.6666666666666666,
             "#ed7953"
            ],
            [
             0.7777777777777778,
             "#fb9f3a"
            ],
            [
             0.8888888888888888,
             "#fdca26"
            ],
            [
             1,
             "#f0f921"
            ]
           ],
           "sequentialminus": [
            [
             0,
             "#0d0887"
            ],
            [
             0.1111111111111111,
             "#46039f"
            ],
            [
             0.2222222222222222,
             "#7201a8"
            ],
            [
             0.3333333333333333,
             "#9c179e"
            ],
            [
             0.4444444444444444,
             "#bd3786"
            ],
            [
             0.5555555555555556,
             "#d8576b"
            ],
            [
             0.6666666666666666,
             "#ed7953"
            ],
            [
             0.7777777777777778,
             "#fb9f3a"
            ],
            [
             0.8888888888888888,
             "#fdca26"
            ],
            [
             1,
             "#f0f921"
            ]
           ]
          },
          "colorway": [
           "#636efa",
           "#EF553B",
           "#00cc96",
           "#ab63fa",
           "#FFA15A",
           "#19d3f3",
           "#FF6692",
           "#B6E880",
           "#FF97FF",
           "#FECB52"
          ],
          "font": {
           "color": "#2a3f5f"
          },
          "geo": {
           "bgcolor": "white",
           "lakecolor": "white",
           "landcolor": "#E5ECF6",
           "showlakes": true,
           "showland": true,
           "subunitcolor": "white"
          },
          "hoverlabel": {
           "align": "left"
          },
          "hovermode": "closest",
          "mapbox": {
           "style": "light"
          },
          "paper_bgcolor": "white",
          "plot_bgcolor": "#E5ECF6",
          "polar": {
           "angularaxis": {
            "gridcolor": "white",
            "linecolor": "white",
            "ticks": ""
           },
           "bgcolor": "#E5ECF6",
           "radialaxis": {
            "gridcolor": "white",
            "linecolor": "white",
            "ticks": ""
           }
          },
          "scene": {
           "xaxis": {
            "backgroundcolor": "#E5ECF6",
            "gridcolor": "white",
            "gridwidth": 2,
            "linecolor": "white",
            "showbackground": true,
            "ticks": "",
            "zerolinecolor": "white"
           },
           "yaxis": {
            "backgroundcolor": "#E5ECF6",
            "gridcolor": "white",
            "gridwidth": 2,
            "linecolor": "white",
            "showbackground": true,
            "ticks": "",
            "zerolinecolor": "white"
           },
           "zaxis": {
            "backgroundcolor": "#E5ECF6",
            "gridcolor": "white",
            "gridwidth": 2,
            "linecolor": "white",
            "showbackground": true,
            "ticks": "",
            "zerolinecolor": "white"
           }
          },
          "shapedefaults": {
           "line": {
            "color": "#2a3f5f"
           }
          },
          "ternary": {
           "aaxis": {
            "gridcolor": "white",
            "linecolor": "white",
            "ticks": ""
           },
           "baxis": {
            "gridcolor": "white",
            "linecolor": "white",
            "ticks": ""
           },
           "bgcolor": "#E5ECF6",
           "caxis": {
            "gridcolor": "white",
            "linecolor": "white",
            "ticks": ""
           }
          },
          "title": {
           "x": 0.05
          },
          "xaxis": {
           "automargin": true,
           "gridcolor": "white",
           "linecolor": "white",
           "ticks": "",
           "title": {
            "standoff": 15
           },
           "zerolinecolor": "white",
           "zerolinewidth": 2
          },
          "yaxis": {
           "automargin": true,
           "gridcolor": "white",
           "linecolor": "white",
           "ticks": "",
           "title": {
            "standoff": 15
           },
           "zerolinecolor": "white",
           "zerolinewidth": 2
          }
         }
        },
        "title": {
         "text": "Test Data Latent Space",
         "x": 0.5
        }
       }
      },
      "text/html": [
       "<div>                            <div id=\"81ec2bc0-34c3-4be0-9eba-299010ba0440\" class=\"plotly-graph-div\" style=\"height:525px; width:100%;\"></div>            <script type=\"text/javascript\">                require([\"plotly\"], function(Plotly) {                    window.PLOTLYENV=window.PLOTLYENV || {};                                    if (document.getElementById(\"81ec2bc0-34c3-4be0-9eba-299010ba0440\")) {                    Plotly.newPlot(                        \"81ec2bc0-34c3-4be0-9eba-299010ba0440\",                        [{\"customdata\":[[\"Run\"],[\"Run\"],[\"Run\"],[\"Run\"],[\"Run\"],[\"Run\"],[\"Run\"],[\"Run\"],[\"Run\"],[\"Run\"],[\"Run\"],[\"Run\"],[\"Run\"],[\"Run\"],[\"Run\"],[\"Run\"],[\"Run\"],[\"Run\"],[\"Run\"],[\"Run\"],[\"Run\"],[\"Run\"],[\"Run\"],[\"Run\"],[\"Run\"],[\"Run\"],[\"Run\"],[\"Run\"],[\"Run\"],[\"Run\"],[\"Run\"],[\"Run\"],[\"Run\"],[\"Run\"],[\"Run\"],[\"Run\"],[\"Run\"],[\"Run\"],[\"Run\"],[\"Run\"],[\"Run\"],[\"Run\"],[\"Run\"],[\"Run\"],[\"Run\"],[\"Run\"],[\"Run\"],[\"Run\"],[\"Run\"],[\"Run\"],[\"Run\"],[\"Run\"],[\"Run\"],[\"Run\"],[\"Run\"],[\"Run\"],[\"Run\"],[\"Run\"]],\"hovertemplate\":\"Classification Results=TN<br>Node 0=%{x}<br>Node 1=%{y}<br>Node 2=%{z}<br>Fault Type=%{customdata[0]}<extra></extra>\",\"legendgroup\":\"TN\",\"marker\":{\"color\":\"blue\",\"symbol\":\"circle\"},\"mode\":\"markers\",\"name\":\"TN\",\"scene\":\"scene\",\"showlegend\":true,\"x\":[0.981840968132019,0.9723352789878845,1.151004433631897,0.9833012819290161,0.9787074327468872,0.9885483384132385,0.9873170256614685,0.9896458983421326,1.1530309915542603,0.9990502595901489,0.9762145280838013,0.9899700284004211,0.9749265909194946,1.0022705793380737,0.9858380556106567,0.9991182088851929,0.9977995157241821,0.975922703742981,0.9676552414894104,0.9805964231491089,0.9946384429931641,0.9727330207824707,0.9864993691444397,0.9962800145149231,0.9665113687515259,0.9456660151481628,0.9440752267837524,0.9645537734031677,0.9411153197288513,0.9604094624519348,0.9663641452789307,0.9843587279319763,0.9795857667922974,0.9743661284446716,0.9739962220191956,0.9653521776199341,0.9568802118301392,0.9776117205619812,0.971770703792572,0.943458616733551,0.9487724900245667,0.9561285972595215,1.18973708152771,0.9538575410842896,1.1977331638336182,0.9540544152259827,0.9826368093490601,0.9701545834541321,0.9682332873344421,0.9696526527404785,0.9787383079528809,0.978830099105835,0.9354267120361328,0.965168833732605,0.9746561050415039,1.2104246616363525,0.9663605690002441,0.9565590023994446],\"y\":[-0.0,-0.0,-0.0,-0.0,-0.0,-0.0,-0.0,-0.0,-0.0,-0.0,-0.0,-0.0,-0.0,-0.0,-0.0,-0.0,-0.0,-0.0,-0.0,-0.0,-0.0,-0.0,-0.0,-0.0,-0.0,-0.0,-0.0,-0.0,-0.0,-0.0,-0.0,-0.0,-0.0,-0.0,-0.0,-0.0,-0.0,-0.0,-0.0,-0.0,-0.0,-0.0,-0.0,-0.0,-0.0,-0.0,-0.0,-0.0,-0.0,-0.0,-0.0,-0.0,-0.0,-0.0,-0.0,-0.0,-0.0,-0.0],\"z\":[0.6345207691192627,0.6482977271080017,0.4210129678249359,0.6408980488777161,0.6491621136665344,0.6335767507553101,0.6395485401153564,0.6328728199005127,0.3922029435634613,0.6289193630218506,0.6424990892410278,0.6352325677871704,0.6501958966255188,0.6255620718002319,0.6357022523880005,0.6286059617996216,0.6342876553535461,0.6467098593711853,0.6559304594993591,0.6393147706985474,0.633249044418335,0.6449167132377625,0.6375920176506042,0.6368151903152466,0.6422837376594543,0.6660661697387695,0.6603848338127136,0.6410741806030273,0.6614466905593872,0.6479663252830505,0.6393008828163147,0.6297290921211243,0.6351157426834106,0.6339535117149353,0.6396888494491577,0.642484188079834,0.6531252264976501,0.6363949775695801,0.6360087990760803,0.6666575074195862,0.6547064781188965,0.651839017868042,0.3207157552242279,0.6538527011871338,0.2992526590824127,0.6507918834686279,0.6291888952255249,0.637801468372345,0.636384904384613,0.6382623314857483,0.6366629600524902,0.6334725618362427,0.6580675840377808,0.6334541440010071,0.6323850750923157,0.2922110855579376,0.6391733884811401,0.6543919444084167],\"type\":\"scatter3d\"},{\"customdata\":[[\"A- Driver Fault\"],[\"Xmtr 3 Fiber Fault\"],[\"Xmtr 3 Fiber Fault\"],[\"A- Driver Fault\"],[\"Xmtr 3 Fiber Fault\"],[\"Xmtr 2 Fiber Fault\"],[\"Xmtr 3 Fiber Fault\"],[\"Xmtr 3 Fiber Fault\"]],\"hovertemplate\":\"Classification Results=FN<br>Node 0=%{x}<br>Node 1=%{y}<br>Node 2=%{z}<br>Fault Type=%{customdata[0]}<extra></extra>\",\"legendgroup\":\"FN\",\"marker\":{\"color\":\"red\",\"symbol\":\"circle\"},\"mode\":\"markers\",\"name\":\"FN\",\"scene\":\"scene\",\"showlegend\":true,\"x\":[0.9960232973098755,0.9917444586753845,0.9908414483070374,0.9975797533988953,1.0011255741119385,1.150488257408142,0.9918233752250671,0.9824766516685486],\"y\":[-0.0,-0.0,-0.0,-0.0,-0.0,-0.0,-0.0,-0.0],\"z\":[0.6324247121810913,0.6312218904495239,0.6316556930541992,0.6314453482627869,0.6284192204475403,0.39245858788490295,0.6339092254638672,0.6277748942375183],\"type\":\"scatter3d\"},{\"customdata\":[[\"TPS Fault\"],[\"TPS Fault\"],[\"TPS Fault\"],[\"A+ Driver Fault\"],[\"Dump Switch Fault\"],[\"TPS Fault\"],[\"TPS Fault\"],[\"A- Driver Fault\"],[\"SNS PPS Missing\"],[\"SNS PPS Missing\"],[\"TPS Fault\"],[\"TPS Fault\"],[\"Xmtr 2 Fiber Fault\"]],\"hovertemplate\":\"Classification Results=TP<br>Node 0=%{x}<br>Node 1=%{y}<br>Node 2=%{z}<br>Fault Type=%{customdata[0]}<extra></extra>\",\"legendgroup\":\"TP\",\"marker\":{\"color\":\"green\",\"symbol\":\"circle\"},\"mode\":\"markers\",\"name\":\"TP\",\"scene\":\"scene\",\"showlegend\":true,\"x\":[0.19322073459625244,0.05541016533970833,-0.0,1.0606197118759155,0.5421785712242126,0.1666208952665329,0.22850117087364197,0.7448415756225586,0.30950281023979187,0.30327820777893066,-0.0,0.06359091401100159,0.8706496953964233],\"y\":[1.0062994956970215,0.6870934963226318,0.5288774371147156,-0.0,-0.0,0.28474536538124084,0.6390852332115173,-0.0,-0.0,-0.0,0.6076073050498962,0.7495914697647095,-0.0],\"z\":[0.774077296257019,1.022985816001892,1.048783779144287,0.5349576473236084,1.13151216506958,0.9928984642028809,0.934718906879425,0.9998051524162292,1.0987235307693481,1.083683967590332,1.0571622848510742,1.0004526376724243,0.7493976354598999],\"type\":\"scatter3d\"},{\"customdata\":[[\"Run\"],[\"Run\"]],\"hovertemplate\":\"Classification Results=FP<br>Node 0=%{x}<br>Node 1=%{y}<br>Node 2=%{z}<br>Fault Type=%{customdata[0]}<extra></extra>\",\"legendgroup\":\"FP\",\"marker\":{\"color\":\"orange\",\"symbol\":\"circle\"},\"mode\":\"markers\",\"name\":\"FP\",\"scene\":\"scene\",\"showlegend\":true,\"x\":[0.17013809084892273,1.1454927921295166],\"y\":[-0.0,-0.0],\"z\":[1.2650140523910522,0.42412659525871277],\"type\":\"scatter3d\"}],                        {\"template\":{\"data\":{\"bar\":[{\"error_x\":{\"color\":\"#2a3f5f\"},\"error_y\":{\"color\":\"#2a3f5f\"},\"marker\":{\"line\":{\"color\":\"#E5ECF6\",\"width\":0.5},\"pattern\":{\"fillmode\":\"overlay\",\"size\":10,\"solidity\":0.2}},\"type\":\"bar\"}],\"barpolar\":[{\"marker\":{\"line\":{\"color\":\"#E5ECF6\",\"width\":0.5},\"pattern\":{\"fillmode\":\"overlay\",\"size\":10,\"solidity\":0.2}},\"type\":\"barpolar\"}],\"carpet\":[{\"aaxis\":{\"endlinecolor\":\"#2a3f5f\",\"gridcolor\":\"white\",\"linecolor\":\"white\",\"minorgridcolor\":\"white\",\"startlinecolor\":\"#2a3f5f\"},\"baxis\":{\"endlinecolor\":\"#2a3f5f\",\"gridcolor\":\"white\",\"linecolor\":\"white\",\"minorgridcolor\":\"white\",\"startlinecolor\":\"#2a3f5f\"},\"type\":\"carpet\"}],\"choropleth\":[{\"colorbar\":{\"outlinewidth\":0,\"ticks\":\"\"},\"type\":\"choropleth\"}],\"contour\":[{\"colorbar\":{\"outlinewidth\":0,\"ticks\":\"\"},\"colorscale\":[[0.0,\"#0d0887\"],[0.1111111111111111,\"#46039f\"],[0.2222222222222222,\"#7201a8\"],[0.3333333333333333,\"#9c179e\"],[0.4444444444444444,\"#bd3786\"],[0.5555555555555556,\"#d8576b\"],[0.6666666666666666,\"#ed7953\"],[0.7777777777777778,\"#fb9f3a\"],[0.8888888888888888,\"#fdca26\"],[1.0,\"#f0f921\"]],\"type\":\"contour\"}],\"contourcarpet\":[{\"colorbar\":{\"outlinewidth\":0,\"ticks\":\"\"},\"type\":\"contourcarpet\"}],\"heatmap\":[{\"colorbar\":{\"outlinewidth\":0,\"ticks\":\"\"},\"colorscale\":[[0.0,\"#0d0887\"],[0.1111111111111111,\"#46039f\"],[0.2222222222222222,\"#7201a8\"],[0.3333333333333333,\"#9c179e\"],[0.4444444444444444,\"#bd3786\"],[0.5555555555555556,\"#d8576b\"],[0.6666666666666666,\"#ed7953\"],[0.7777777777777778,\"#fb9f3a\"],[0.8888888888888888,\"#fdca26\"],[1.0,\"#f0f921\"]],\"type\":\"heatmap\"}],\"heatmapgl\":[{\"colorbar\":{\"outlinewidth\":0,\"ticks\":\"\"},\"colorscale\":[[0.0,\"#0d0887\"],[0.1111111111111111,\"#46039f\"],[0.2222222222222222,\"#7201a8\"],[0.3333333333333333,\"#9c179e\"],[0.4444444444444444,\"#bd3786\"],[0.5555555555555556,\"#d8576b\"],[0.6666666666666666,\"#ed7953\"],[0.7777777777777778,\"#fb9f3a\"],[0.8888888888888888,\"#fdca26\"],[1.0,\"#f0f921\"]],\"type\":\"heatmapgl\"}],\"histogram\":[{\"marker\":{\"pattern\":{\"fillmode\":\"overlay\",\"size\":10,\"solidity\":0.2}},\"type\":\"histogram\"}],\"histogram2d\":[{\"colorbar\":{\"outlinewidth\":0,\"ticks\":\"\"},\"colorscale\":[[0.0,\"#0d0887\"],[0.1111111111111111,\"#46039f\"],[0.2222222222222222,\"#7201a8\"],[0.3333333333333333,\"#9c179e\"],[0.4444444444444444,\"#bd3786\"],[0.5555555555555556,\"#d8576b\"],[0.6666666666666666,\"#ed7953\"],[0.7777777777777778,\"#fb9f3a\"],[0.8888888888888888,\"#fdca26\"],[1.0,\"#f0f921\"]],\"type\":\"histogram2d\"}],\"histogram2dcontour\":[{\"colorbar\":{\"outlinewidth\":0,\"ticks\":\"\"},\"colorscale\":[[0.0,\"#0d0887\"],[0.1111111111111111,\"#46039f\"],[0.2222222222222222,\"#7201a8\"],[0.3333333333333333,\"#9c179e\"],[0.4444444444444444,\"#bd3786\"],[0.5555555555555556,\"#d8576b\"],[0.6666666666666666,\"#ed7953\"],[0.7777777777777778,\"#fb9f3a\"],[0.8888888888888888,\"#fdca26\"],[1.0,\"#f0f921\"]],\"type\":\"histogram2dcontour\"}],\"mesh3d\":[{\"colorbar\":{\"outlinewidth\":0,\"ticks\":\"\"},\"type\":\"mesh3d\"}],\"parcoords\":[{\"line\":{\"colorbar\":{\"outlinewidth\":0,\"ticks\":\"\"}},\"type\":\"parcoords\"}],\"pie\":[{\"automargin\":true,\"type\":\"pie\"}],\"scatter\":[{\"marker\":{\"colorbar\":{\"outlinewidth\":0,\"ticks\":\"\"}},\"type\":\"scatter\"}],\"scatter3d\":[{\"line\":{\"colorbar\":{\"outlinewidth\":0,\"ticks\":\"\"}},\"marker\":{\"colorbar\":{\"outlinewidth\":0,\"ticks\":\"\"}},\"type\":\"scatter3d\"}],\"scattercarpet\":[{\"marker\":{\"colorbar\":{\"outlinewidth\":0,\"ticks\":\"\"}},\"type\":\"scattercarpet\"}],\"scattergeo\":[{\"marker\":{\"colorbar\":{\"outlinewidth\":0,\"ticks\":\"\"}},\"type\":\"scattergeo\"}],\"scattergl\":[{\"marker\":{\"colorbar\":{\"outlinewidth\":0,\"ticks\":\"\"}},\"type\":\"scattergl\"}],\"scattermapbox\":[{\"marker\":{\"colorbar\":{\"outlinewidth\":0,\"ticks\":\"\"}},\"type\":\"scattermapbox\"}],\"scatterpolar\":[{\"marker\":{\"colorbar\":{\"outlinewidth\":0,\"ticks\":\"\"}},\"type\":\"scatterpolar\"}],\"scatterpolargl\":[{\"marker\":{\"colorbar\":{\"outlinewidth\":0,\"ticks\":\"\"}},\"type\":\"scatterpolargl\"}],\"scatterternary\":[{\"marker\":{\"colorbar\":{\"outlinewidth\":0,\"ticks\":\"\"}},\"type\":\"scatterternary\"}],\"surface\":[{\"colorbar\":{\"outlinewidth\":0,\"ticks\":\"\"},\"colorscale\":[[0.0,\"#0d0887\"],[0.1111111111111111,\"#46039f\"],[0.2222222222222222,\"#7201a8\"],[0.3333333333333333,\"#9c179e\"],[0.4444444444444444,\"#bd3786\"],[0.5555555555555556,\"#d8576b\"],[0.6666666666666666,\"#ed7953\"],[0.7777777777777778,\"#fb9f3a\"],[0.8888888888888888,\"#fdca26\"],[1.0,\"#f0f921\"]],\"type\":\"surface\"}],\"table\":[{\"cells\":{\"fill\":{\"color\":\"#EBF0F8\"},\"line\":{\"color\":\"white\"}},\"header\":{\"fill\":{\"color\":\"#C8D4E3\"},\"line\":{\"color\":\"white\"}},\"type\":\"table\"}]},\"layout\":{\"annotationdefaults\":{\"arrowcolor\":\"#2a3f5f\",\"arrowhead\":0,\"arrowwidth\":1},\"autotypenumbers\":\"strict\",\"coloraxis\":{\"colorbar\":{\"outlinewidth\":0,\"ticks\":\"\"}},\"colorscale\":{\"diverging\":[[0,\"#8e0152\"],[0.1,\"#c51b7d\"],[0.2,\"#de77ae\"],[0.3,\"#f1b6da\"],[0.4,\"#fde0ef\"],[0.5,\"#f7f7f7\"],[0.6,\"#e6f5d0\"],[0.7,\"#b8e186\"],[0.8,\"#7fbc41\"],[0.9,\"#4d9221\"],[1,\"#276419\"]],\"sequential\":[[0.0,\"#0d0887\"],[0.1111111111111111,\"#46039f\"],[0.2222222222222222,\"#7201a8\"],[0.3333333333333333,\"#9c179e\"],[0.4444444444444444,\"#bd3786\"],[0.5555555555555556,\"#d8576b\"],[0.6666666666666666,\"#ed7953\"],[0.7777777777777778,\"#fb9f3a\"],[0.8888888888888888,\"#fdca26\"],[1.0,\"#f0f921\"]],\"sequentialminus\":[[0.0,\"#0d0887\"],[0.1111111111111111,\"#46039f\"],[0.2222222222222222,\"#7201a8\"],[0.3333333333333333,\"#9c179e\"],[0.4444444444444444,\"#bd3786\"],[0.5555555555555556,\"#d8576b\"],[0.6666666666666666,\"#ed7953\"],[0.7777777777777778,\"#fb9f3a\"],[0.8888888888888888,\"#fdca26\"],[1.0,\"#f0f921\"]]},\"colorway\":[\"#636efa\",\"#EF553B\",\"#00cc96\",\"#ab63fa\",\"#FFA15A\",\"#19d3f3\",\"#FF6692\",\"#B6E880\",\"#FF97FF\",\"#FECB52\"],\"font\":{\"color\":\"#2a3f5f\"},\"geo\":{\"bgcolor\":\"white\",\"lakecolor\":\"white\",\"landcolor\":\"#E5ECF6\",\"showlakes\":true,\"showland\":true,\"subunitcolor\":\"white\"},\"hoverlabel\":{\"align\":\"left\"},\"hovermode\":\"closest\",\"mapbox\":{\"style\":\"light\"},\"paper_bgcolor\":\"white\",\"plot_bgcolor\":\"#E5ECF6\",\"polar\":{\"angularaxis\":{\"gridcolor\":\"white\",\"linecolor\":\"white\",\"ticks\":\"\"},\"bgcolor\":\"#E5ECF6\",\"radialaxis\":{\"gridcolor\":\"white\",\"linecolor\":\"white\",\"ticks\":\"\"}},\"scene\":{\"xaxis\":{\"backgroundcolor\":\"#E5ECF6\",\"gridcolor\":\"white\",\"gridwidth\":2,\"linecolor\":\"white\",\"showbackground\":true,\"ticks\":\"\",\"zerolinecolor\":\"white\"},\"yaxis\":{\"backgroundcolor\":\"#E5ECF6\",\"gridcolor\":\"white\",\"gridwidth\":2,\"linecolor\":\"white\",\"showbackground\":true,\"ticks\":\"\",\"zerolinecolor\":\"white\"},\"zaxis\":{\"backgroundcolor\":\"#E5ECF6\",\"gridcolor\":\"white\",\"gridwidth\":2,\"linecolor\":\"white\",\"showbackground\":true,\"ticks\":\"\",\"zerolinecolor\":\"white\"}},\"shapedefaults\":{\"line\":{\"color\":\"#2a3f5f\"}},\"ternary\":{\"aaxis\":{\"gridcolor\":\"white\",\"linecolor\":\"white\",\"ticks\":\"\"},\"baxis\":{\"gridcolor\":\"white\",\"linecolor\":\"white\",\"ticks\":\"\"},\"bgcolor\":\"#E5ECF6\",\"caxis\":{\"gridcolor\":\"white\",\"linecolor\":\"white\",\"ticks\":\"\"}},\"title\":{\"x\":0.05},\"xaxis\":{\"automargin\":true,\"gridcolor\":\"white\",\"linecolor\":\"white\",\"ticks\":\"\",\"title\":{\"standoff\":15},\"zerolinecolor\":\"white\",\"zerolinewidth\":2},\"yaxis\":{\"automargin\":true,\"gridcolor\":\"white\",\"linecolor\":\"white\",\"ticks\":\"\",\"title\":{\"standoff\":15},\"zerolinecolor\":\"white\",\"zerolinewidth\":2}}},\"scene\":{\"domain\":{\"x\":[0.0,1.0],\"y\":[0.0,1.0]},\"xaxis\":{\"title\":{\"text\":\"Node 0\"}},\"yaxis\":{\"title\":{\"text\":\"Node 1\"}},\"zaxis\":{\"title\":{\"text\":\"Node 2\"}}},\"legend\":{\"title\":{\"text\":\"Classification Results\"},\"tracegroupgap\":0},\"margin\":{\"t\":60},\"title\":{\"text\":\"Test Data Latent Space\",\"x\":0.5}},                        {\"responsive\": true}                    ).then(function(){\n",
       "                            \n",
       "var gd = document.getElementById('81ec2bc0-34c3-4be0-9eba-299010ba0440');\n",
       "var x = new MutationObserver(function (mutations, observer) {{\n",
       "        var display = window.getComputedStyle(gd).display;\n",
       "        if (!display || display === 'none') {{\n",
       "            console.log([gd, 'removed!']);\n",
       "            Plotly.purge(gd);\n",
       "            observer.disconnect();\n",
       "        }}\n",
       "}});\n",
       "\n",
       "// Listen for the removal of the full notebook cells\n",
       "var notebookContainer = gd.closest('#notebook-container');\n",
       "if (notebookContainer) {{\n",
       "    x.observe(notebookContainer, {childList: true});\n",
       "}}\n",
       "\n",
       "// Listen for the clearing of the current output cell\n",
       "var outputEl = gd.closest('.output');\n",
       "if (outputEl) {{\n",
       "    x.observe(outputEl, {childList: true});\n",
       "}}\n",
       "\n",
       "                        })                };                });            </script>        </div>"
      ]
     },
     "metadata": {},
     "output_type": "display_data"
    }
   ],
   "source": [
    "## Test\n",
    "test_val_classifications = get_grading(test_validation_predictions, val_test_y)\n",
    "y_val_test_type = combined_y_type_shuffled[126:]\n",
    "\n",
    "test_data_latent_space = pd.DataFrame({'Node 0': latent_test_val_representation.T[0],\n",
    "                                       'Node 1': latent_test_val_representation.T[1],\n",
    "                                       'Node 2': latent_test_val_representation.T[2],\n",
    "                                       'Classification Results': test_val_classifications,\n",
    "                                        'Fault Type':y_val_test_type})\n",
    "\n",
    "fig = px.scatter_3d(pd.DataFrame(test_data_latent_space), x='Node 0',y='Node 1',z='Node 2',\n",
    "                   color='Classification Results', \n",
    "                    hover_data = ['Fault Type'],\n",
    "                color_discrete_map={\n",
    "                'TN': 'blue',\n",
    "                'TP': 'green', \n",
    "                'FP': 'orange',\n",
    "                'FN': 'red'})\n",
    "fig.update_layout(title_text='Test Data Latent Space', title_x=0.5)\n",
    "fig.show()"
   ]
  },
  {
   "cell_type": "code",
   "execution_count": null,
   "id": "58573fba-271f-4f90-8fbd-ded151e53188",
   "metadata": {},
   "outputs": [],
   "source": []
  },
  {
   "cell_type": "code",
   "execution_count": 61,
   "id": "f83df06f-6ed0-42aa-aa97-4edb302fcc6b",
   "metadata": {},
   "outputs": [],
   "source": [
    "## saving the latent space representations in csv file\n",
    "# train_data_latent_space.to_csv('Train_data_latent_df.csv')\n",
    "# test_data_latent_space.to_csv('Test_data_latent_df.csv')\n"
   ]
  }
 ],
 "metadata": {
  "kernelspec": {
   "display_name": "Python 3 (ipykernel)",
   "language": "python",
   "name": "python3"
  },
  "language_info": {
   "codemirror_mode": {
    "name": "ipython",
    "version": 3
   },
   "file_extension": ".py",
   "mimetype": "text/x-python",
   "name": "python",
   "nbconvert_exporter": "python",
   "pygments_lexer": "ipython3",
   "version": "3.7.11"
  },
  "toc-autonumbering": false,
  "toc-showcode": false,
  "toc-showmarkdowntxt": true,
  "widgets": {
   "application/vnd.jupyter.widget-state+json": {
    "state": {},
    "version_major": 2,
    "version_minor": 0
   }
  }
 },
 "nbformat": 4,
 "nbformat_minor": 5
}
